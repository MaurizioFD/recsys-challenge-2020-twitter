{
 "cells": [
  {
   "cell_type": "code",
   "execution_count": 1,
   "metadata": {},
   "outputs": [
    {
     "data": {
      "text/plain": [
       "'en_US.UTF-8'"
      ]
     },
     "execution_count": 1,
     "metadata": {},
     "output_type": "execute_result"
    }
   ],
   "source": [
    "# Set project root\n",
    "import os\n",
    "os.chdir('./..')\n",
    "\n",
    "# Setting locale for pretty printing\n",
    "import locale\n",
    "locale.setlocale(locale.LC_ALL, '')"
   ]
  },
  {
   "cell_type": "code",
   "execution_count": 2,
   "metadata": {},
   "outputs": [],
   "source": [
    "# Importing something that can be useful, I hope\n",
    "from Utils.Data.Data import get_feature, get_dataset, get_dictionary\n",
    "import matplotlib.pyplot as plt\n",
    "plt.rcParams['figure.dpi'] = 110\n",
    "import pandas as pd\n",
    "import numpy as np"
   ]
  },
  {
   "cell_type": "markdown",
   "metadata": {},
   "source": [
    "# Train dataset analysis"
   ]
  },
  {
   "cell_type": "code",
   "execution_count": 3,
   "metadata": {},
   "outputs": [],
   "source": [
    "columns = [\n",
    "    \"mapped_feature_tweet_id\",\n",
    "    \"tweet_feature_number_of_video\",\n",
    "    \"tweet_feature_number_of_gif\",\n",
    "    \"tweet_feature_number_of_photo\",\n",
    "    \"tweet_feature_number_of_media\",\n",
    "    \"mapped_feature_tweet_media\"\n",
    "]\n",
    "dataset_id = \"train\""
   ]
  },
  {
   "cell_type": "code",
   "execution_count": 4,
   "metadata": {},
   "outputs": [
    {
     "data": {
      "text/html": [
       "<div>\n",
       "<style scoped>\n",
       "    .dataframe tbody tr th:only-of-type {\n",
       "        vertical-align: middle;\n",
       "    }\n",
       "\n",
       "    .dataframe tbody tr th {\n",
       "        vertical-align: top;\n",
       "    }\n",
       "\n",
       "    .dataframe thead th {\n",
       "        text-align: right;\n",
       "    }\n",
       "</style>\n",
       "<table border=\"1\" class=\"dataframe\">\n",
       "  <thead>\n",
       "    <tr style=\"text-align: right;\">\n",
       "      <th></th>\n",
       "      <th>mapped_feature_tweet_id</th>\n",
       "      <th>tweet_feature_number_of_video</th>\n",
       "      <th>tweet_feature_number_of_gif</th>\n",
       "      <th>tweet_feature_number_of_photo</th>\n",
       "      <th>tweet_feature_number_of_media</th>\n",
       "      <th>mapped_feature_tweet_media</th>\n",
       "    </tr>\n",
       "  </thead>\n",
       "  <tbody>\n",
       "    <tr>\n",
       "      <th>0</th>\n",
       "      <td>0</td>\n",
       "      <td>0</td>\n",
       "      <td>0</td>\n",
       "      <td>0</td>\n",
       "      <td>0</td>\n",
       "      <td>None</td>\n",
       "    </tr>\n",
       "    <tr>\n",
       "      <th>1</th>\n",
       "      <td>1</td>\n",
       "      <td>0</td>\n",
       "      <td>0</td>\n",
       "      <td>1</td>\n",
       "      <td>1</td>\n",
       "      <td>[0]</td>\n",
       "    </tr>\n",
       "    <tr>\n",
       "      <th>2</th>\n",
       "      <td>2</td>\n",
       "      <td>0</td>\n",
       "      <td>0</td>\n",
       "      <td>0</td>\n",
       "      <td>0</td>\n",
       "      <td>None</td>\n",
       "    </tr>\n",
       "    <tr>\n",
       "      <th>3</th>\n",
       "      <td>3</td>\n",
       "      <td>0</td>\n",
       "      <td>0</td>\n",
       "      <td>0</td>\n",
       "      <td>0</td>\n",
       "      <td>None</td>\n",
       "    </tr>\n",
       "    <tr>\n",
       "      <th>4</th>\n",
       "      <td>4</td>\n",
       "      <td>0</td>\n",
       "      <td>0</td>\n",
       "      <td>0</td>\n",
       "      <td>0</td>\n",
       "      <td>None</td>\n",
       "    </tr>\n",
       "    <tr>\n",
       "      <th>...</th>\n",
       "      <td>...</td>\n",
       "      <td>...</td>\n",
       "      <td>...</td>\n",
       "      <td>...</td>\n",
       "      <td>...</td>\n",
       "      <td>...</td>\n",
       "    </tr>\n",
       "    <tr>\n",
       "      <th>148075233</th>\n",
       "      <td>73549796</td>\n",
       "      <td>0</td>\n",
       "      <td>0</td>\n",
       "      <td>0</td>\n",
       "      <td>0</td>\n",
       "      <td>None</td>\n",
       "    </tr>\n",
       "    <tr>\n",
       "      <th>148075234</th>\n",
       "      <td>73549797</td>\n",
       "      <td>0</td>\n",
       "      <td>0</td>\n",
       "      <td>0</td>\n",
       "      <td>0</td>\n",
       "      <td>None</td>\n",
       "    </tr>\n",
       "    <tr>\n",
       "      <th>148075235</th>\n",
       "      <td>2581571</td>\n",
       "      <td>0</td>\n",
       "      <td>0</td>\n",
       "      <td>0</td>\n",
       "      <td>0</td>\n",
       "      <td>None</td>\n",
       "    </tr>\n",
       "    <tr>\n",
       "      <th>148075236</th>\n",
       "      <td>15200993</td>\n",
       "      <td>0</td>\n",
       "      <td>0</td>\n",
       "      <td>0</td>\n",
       "      <td>0</td>\n",
       "      <td>None</td>\n",
       "    </tr>\n",
       "    <tr>\n",
       "      <th>148075237</th>\n",
       "      <td>73549798</td>\n",
       "      <td>0</td>\n",
       "      <td>0</td>\n",
       "      <td>0</td>\n",
       "      <td>0</td>\n",
       "      <td>None</td>\n",
       "    </tr>\n",
       "  </tbody>\n",
       "</table>\n",
       "<p>148075238 rows × 6 columns</p>\n",
       "</div>"
      ],
      "text/plain": [
       "           mapped_feature_tweet_id  tweet_feature_number_of_video  \\\n",
       "0                                0                              0   \n",
       "1                                1                              0   \n",
       "2                                2                              0   \n",
       "3                                3                              0   \n",
       "4                                4                              0   \n",
       "...                            ...                            ...   \n",
       "148075233                 73549796                              0   \n",
       "148075234                 73549797                              0   \n",
       "148075235                  2581571                              0   \n",
       "148075236                 15200993                              0   \n",
       "148075237                 73549798                              0   \n",
       "\n",
       "           tweet_feature_number_of_gif  tweet_feature_number_of_photo  \\\n",
       "0                                    0                              0   \n",
       "1                                    0                              1   \n",
       "2                                    0                              0   \n",
       "3                                    0                              0   \n",
       "4                                    0                              0   \n",
       "...                                ...                            ...   \n",
       "148075233                            0                              0   \n",
       "148075234                            0                              0   \n",
       "148075235                            0                              0   \n",
       "148075236                            0                              0   \n",
       "148075237                            0                              0   \n",
       "\n",
       "           tweet_feature_number_of_media mapped_feature_tweet_media  \n",
       "0                                      0                       None  \n",
       "1                                      1                        [0]  \n",
       "2                                      0                       None  \n",
       "3                                      0                       None  \n",
       "4                                      0                       None  \n",
       "...                                  ...                        ...  \n",
       "148075233                              0                       None  \n",
       "148075234                              0                       None  \n",
       "148075235                              0                       None  \n",
       "148075236                              0                       None  \n",
       "148075237                              0                       None  \n",
       "\n",
       "[148075238 rows x 6 columns]"
      ]
     },
     "execution_count": 4,
     "metadata": {},
     "output_type": "execute_result"
    }
   ],
   "source": [
    "# Load the data\n",
    "dataframe = get_dataset(columns, dataset_id)\n",
    "dataframe"
   ]
  },
  {
   "cell_type": "code",
   "execution_count": 5,
   "metadata": {},
   "outputs": [
    {
     "name": "stdout",
     "output_type": "stream",
     "text": [
      "<class 'pandas.core.frame.DataFrame'>\n",
      "RangeIndex: 148075238 entries, 0 to 148075237\n",
      "Data columns (total 6 columns):\n",
      " #   Column                         Dtype \n",
      "---  ------                         ----- \n",
      " 0   mapped_feature_tweet_id        int64 \n",
      " 1   tweet_feature_number_of_video  int64 \n",
      " 2   tweet_feature_number_of_gif    int64 \n",
      " 3   tweet_feature_number_of_photo  int64 \n",
      " 4   tweet_feature_number_of_media  int64 \n",
      " 5   mapped_feature_tweet_media     object\n",
      "dtypes: int64(5), object(1)\n",
      "memory usage: 6.6+ GB\n"
     ]
    }
   ],
   "source": [
    "dataframe.info()"
   ]
  },
  {
   "cell_type": "raw",
   "metadata": {},
   "source": [
    "dataframe.memory_usage(deep=True)"
   ]
  },
  {
   "cell_type": "raw",
   "metadata": {},
   "source": [
    "Index                                   128\n",
    "mapped_feature_tweet_id          1184601904\n",
    "tweet_feature_number_of_video    1184601904\n",
    "tweet_feature_number_of_gif      1184601904\n",
    "tweet_feature_number_of_photo    1184601904\n",
    "tweet_feature_number_of_media    1184601904\n",
    "mapped_feature_tweet_media       8348286792\n",
    "dtype: int64"
   ]
  },
  {
   "cell_type": "markdown",
   "metadata": {},
   "source": [
    "## Yeah! Array sucks... 8GB"
   ]
  },
  {
   "cell_type": "code",
   "execution_count": 6,
   "metadata": {},
   "outputs": [
    {
     "data": {
      "text/html": [
       "<div>\n",
       "<style scoped>\n",
       "    .dataframe tbody tr th:only-of-type {\n",
       "        vertical-align: middle;\n",
       "    }\n",
       "\n",
       "    .dataframe tbody tr th {\n",
       "        vertical-align: top;\n",
       "    }\n",
       "\n",
       "    .dataframe thead th {\n",
       "        text-align: right;\n",
       "    }\n",
       "</style>\n",
       "<table border=\"1\" class=\"dataframe\">\n",
       "  <thead>\n",
       "    <tr style=\"text-align: right;\">\n",
       "      <th></th>\n",
       "      <th>mapped_feature_tweet_id</th>\n",
       "      <th>tweet_feature_number_of_video</th>\n",
       "      <th>tweet_feature_number_of_gif</th>\n",
       "      <th>tweet_feature_number_of_photo</th>\n",
       "      <th>tweet_feature_number_of_media</th>\n",
       "      <th>mapped_feature_tweet_media</th>\n",
       "    </tr>\n",
       "  </thead>\n",
       "  <tbody>\n",
       "    <tr>\n",
       "      <th>0</th>\n",
       "      <td>0</td>\n",
       "      <td>0</td>\n",
       "      <td>0</td>\n",
       "      <td>0</td>\n",
       "      <td>0</td>\n",
       "      <td>None</td>\n",
       "    </tr>\n",
       "    <tr>\n",
       "      <th>1</th>\n",
       "      <td>1</td>\n",
       "      <td>0</td>\n",
       "      <td>0</td>\n",
       "      <td>1</td>\n",
       "      <td>1</td>\n",
       "      <td>[0]</td>\n",
       "    </tr>\n",
       "    <tr>\n",
       "      <th>2</th>\n",
       "      <td>2</td>\n",
       "      <td>0</td>\n",
       "      <td>0</td>\n",
       "      <td>0</td>\n",
       "      <td>0</td>\n",
       "      <td>None</td>\n",
       "    </tr>\n",
       "    <tr>\n",
       "      <th>3</th>\n",
       "      <td>3</td>\n",
       "      <td>0</td>\n",
       "      <td>0</td>\n",
       "      <td>0</td>\n",
       "      <td>0</td>\n",
       "      <td>None</td>\n",
       "    </tr>\n",
       "    <tr>\n",
       "      <th>4</th>\n",
       "      <td>4</td>\n",
       "      <td>0</td>\n",
       "      <td>0</td>\n",
       "      <td>0</td>\n",
       "      <td>0</td>\n",
       "      <td>None</td>\n",
       "    </tr>\n",
       "    <tr>\n",
       "      <th>5</th>\n",
       "      <td>5</td>\n",
       "      <td>0</td>\n",
       "      <td>0</td>\n",
       "      <td>0</td>\n",
       "      <td>0</td>\n",
       "      <td>None</td>\n",
       "    </tr>\n",
       "    <tr>\n",
       "      <th>6</th>\n",
       "      <td>6</td>\n",
       "      <td>0</td>\n",
       "      <td>0</td>\n",
       "      <td>0</td>\n",
       "      <td>0</td>\n",
       "      <td>None</td>\n",
       "    </tr>\n",
       "    <tr>\n",
       "      <th>7</th>\n",
       "      <td>7</td>\n",
       "      <td>0</td>\n",
       "      <td>0</td>\n",
       "      <td>0</td>\n",
       "      <td>0</td>\n",
       "      <td>None</td>\n",
       "    </tr>\n",
       "    <tr>\n",
       "      <th>8</th>\n",
       "      <td>8</td>\n",
       "      <td>0</td>\n",
       "      <td>0</td>\n",
       "      <td>0</td>\n",
       "      <td>0</td>\n",
       "      <td>None</td>\n",
       "    </tr>\n",
       "    <tr>\n",
       "      <th>9</th>\n",
       "      <td>9</td>\n",
       "      <td>0</td>\n",
       "      <td>0</td>\n",
       "      <td>0</td>\n",
       "      <td>0</td>\n",
       "      <td>None</td>\n",
       "    </tr>\n",
       "    <tr>\n",
       "      <th>10</th>\n",
       "      <td>10</td>\n",
       "      <td>1</td>\n",
       "      <td>0</td>\n",
       "      <td>0</td>\n",
       "      <td>1</td>\n",
       "      <td>[1]</td>\n",
       "    </tr>\n",
       "    <tr>\n",
       "      <th>11</th>\n",
       "      <td>11</td>\n",
       "      <td>0</td>\n",
       "      <td>0</td>\n",
       "      <td>0</td>\n",
       "      <td>0</td>\n",
       "      <td>None</td>\n",
       "    </tr>\n",
       "    <tr>\n",
       "      <th>12</th>\n",
       "      <td>12</td>\n",
       "      <td>0</td>\n",
       "      <td>0</td>\n",
       "      <td>0</td>\n",
       "      <td>0</td>\n",
       "      <td>None</td>\n",
       "    </tr>\n",
       "    <tr>\n",
       "      <th>13</th>\n",
       "      <td>13</td>\n",
       "      <td>0</td>\n",
       "      <td>0</td>\n",
       "      <td>0</td>\n",
       "      <td>0</td>\n",
       "      <td>None</td>\n",
       "    </tr>\n",
       "    <tr>\n",
       "      <th>14</th>\n",
       "      <td>14</td>\n",
       "      <td>1</td>\n",
       "      <td>0</td>\n",
       "      <td>0</td>\n",
       "      <td>1</td>\n",
       "      <td>[1]</td>\n",
       "    </tr>\n",
       "    <tr>\n",
       "      <th>15</th>\n",
       "      <td>15</td>\n",
       "      <td>0</td>\n",
       "      <td>0</td>\n",
       "      <td>0</td>\n",
       "      <td>0</td>\n",
       "      <td>None</td>\n",
       "    </tr>\n",
       "    <tr>\n",
       "      <th>16</th>\n",
       "      <td>16</td>\n",
       "      <td>1</td>\n",
       "      <td>0</td>\n",
       "      <td>0</td>\n",
       "      <td>1</td>\n",
       "      <td>[1]</td>\n",
       "    </tr>\n",
       "    <tr>\n",
       "      <th>17</th>\n",
       "      <td>17</td>\n",
       "      <td>1</td>\n",
       "      <td>0</td>\n",
       "      <td>0</td>\n",
       "      <td>1</td>\n",
       "      <td>[1]</td>\n",
       "    </tr>\n",
       "    <tr>\n",
       "      <th>18</th>\n",
       "      <td>18</td>\n",
       "      <td>0</td>\n",
       "      <td>0</td>\n",
       "      <td>0</td>\n",
       "      <td>0</td>\n",
       "      <td>None</td>\n",
       "    </tr>\n",
       "    <tr>\n",
       "      <th>19</th>\n",
       "      <td>19</td>\n",
       "      <td>0</td>\n",
       "      <td>0</td>\n",
       "      <td>0</td>\n",
       "      <td>0</td>\n",
       "      <td>None</td>\n",
       "    </tr>\n",
       "    <tr>\n",
       "      <th>20</th>\n",
       "      <td>20</td>\n",
       "      <td>0</td>\n",
       "      <td>0</td>\n",
       "      <td>4</td>\n",
       "      <td>4</td>\n",
       "      <td>[0, 0, 0, 0]</td>\n",
       "    </tr>\n",
       "    <tr>\n",
       "      <th>21</th>\n",
       "      <td>21</td>\n",
       "      <td>1</td>\n",
       "      <td>0</td>\n",
       "      <td>0</td>\n",
       "      <td>1</td>\n",
       "      <td>[1]</td>\n",
       "    </tr>\n",
       "    <tr>\n",
       "      <th>22</th>\n",
       "      <td>22</td>\n",
       "      <td>0</td>\n",
       "      <td>0</td>\n",
       "      <td>0</td>\n",
       "      <td>0</td>\n",
       "      <td>None</td>\n",
       "    </tr>\n",
       "    <tr>\n",
       "      <th>23</th>\n",
       "      <td>23</td>\n",
       "      <td>0</td>\n",
       "      <td>0</td>\n",
       "      <td>0</td>\n",
       "      <td>0</td>\n",
       "      <td>None</td>\n",
       "    </tr>\n",
       "    <tr>\n",
       "      <th>24</th>\n",
       "      <td>24</td>\n",
       "      <td>1</td>\n",
       "      <td>0</td>\n",
       "      <td>0</td>\n",
       "      <td>1</td>\n",
       "      <td>[1]</td>\n",
       "    </tr>\n",
       "    <tr>\n",
       "      <th>25</th>\n",
       "      <td>25</td>\n",
       "      <td>0</td>\n",
       "      <td>0</td>\n",
       "      <td>0</td>\n",
       "      <td>0</td>\n",
       "      <td>None</td>\n",
       "    </tr>\n",
       "    <tr>\n",
       "      <th>26</th>\n",
       "      <td>26</td>\n",
       "      <td>0</td>\n",
       "      <td>0</td>\n",
       "      <td>0</td>\n",
       "      <td>0</td>\n",
       "      <td>None</td>\n",
       "    </tr>\n",
       "    <tr>\n",
       "      <th>27</th>\n",
       "      <td>27</td>\n",
       "      <td>0</td>\n",
       "      <td>0</td>\n",
       "      <td>1</td>\n",
       "      <td>1</td>\n",
       "      <td>[0]</td>\n",
       "    </tr>\n",
       "    <tr>\n",
       "      <th>28</th>\n",
       "      <td>28</td>\n",
       "      <td>0</td>\n",
       "      <td>0</td>\n",
       "      <td>0</td>\n",
       "      <td>0</td>\n",
       "      <td>None</td>\n",
       "    </tr>\n",
       "    <tr>\n",
       "      <th>29</th>\n",
       "      <td>29</td>\n",
       "      <td>0</td>\n",
       "      <td>0</td>\n",
       "      <td>0</td>\n",
       "      <td>0</td>\n",
       "      <td>None</td>\n",
       "    </tr>\n",
       "    <tr>\n",
       "      <th>30</th>\n",
       "      <td>30</td>\n",
       "      <td>0</td>\n",
       "      <td>0</td>\n",
       "      <td>0</td>\n",
       "      <td>0</td>\n",
       "      <td>None</td>\n",
       "    </tr>\n",
       "    <tr>\n",
       "      <th>31</th>\n",
       "      <td>31</td>\n",
       "      <td>0</td>\n",
       "      <td>0</td>\n",
       "      <td>0</td>\n",
       "      <td>0</td>\n",
       "      <td>None</td>\n",
       "    </tr>\n",
       "    <tr>\n",
       "      <th>32</th>\n",
       "      <td>32</td>\n",
       "      <td>0</td>\n",
       "      <td>0</td>\n",
       "      <td>1</td>\n",
       "      <td>1</td>\n",
       "      <td>[0]</td>\n",
       "    </tr>\n",
       "    <tr>\n",
       "      <th>33</th>\n",
       "      <td>33</td>\n",
       "      <td>0</td>\n",
       "      <td>0</td>\n",
       "      <td>0</td>\n",
       "      <td>0</td>\n",
       "      <td>None</td>\n",
       "    </tr>\n",
       "    <tr>\n",
       "      <th>34</th>\n",
       "      <td>34</td>\n",
       "      <td>1</td>\n",
       "      <td>0</td>\n",
       "      <td>0</td>\n",
       "      <td>1</td>\n",
       "      <td>[1]</td>\n",
       "    </tr>\n",
       "    <tr>\n",
       "      <th>35</th>\n",
       "      <td>35</td>\n",
       "      <td>0</td>\n",
       "      <td>0</td>\n",
       "      <td>0</td>\n",
       "      <td>0</td>\n",
       "      <td>None</td>\n",
       "    </tr>\n",
       "    <tr>\n",
       "      <th>36</th>\n",
       "      <td>36</td>\n",
       "      <td>0</td>\n",
       "      <td>0</td>\n",
       "      <td>0</td>\n",
       "      <td>0</td>\n",
       "      <td>None</td>\n",
       "    </tr>\n",
       "    <tr>\n",
       "      <th>37</th>\n",
       "      <td>37</td>\n",
       "      <td>0</td>\n",
       "      <td>0</td>\n",
       "      <td>0</td>\n",
       "      <td>0</td>\n",
       "      <td>None</td>\n",
       "    </tr>\n",
       "    <tr>\n",
       "      <th>38</th>\n",
       "      <td>38</td>\n",
       "      <td>0</td>\n",
       "      <td>0</td>\n",
       "      <td>1</td>\n",
       "      <td>1</td>\n",
       "      <td>[0]</td>\n",
       "    </tr>\n",
       "    <tr>\n",
       "      <th>39</th>\n",
       "      <td>39</td>\n",
       "      <td>0</td>\n",
       "      <td>0</td>\n",
       "      <td>0</td>\n",
       "      <td>0</td>\n",
       "      <td>None</td>\n",
       "    </tr>\n",
       "    <tr>\n",
       "      <th>40</th>\n",
       "      <td>40</td>\n",
       "      <td>0</td>\n",
       "      <td>0</td>\n",
       "      <td>0</td>\n",
       "      <td>0</td>\n",
       "      <td>None</td>\n",
       "    </tr>\n",
       "    <tr>\n",
       "      <th>41</th>\n",
       "      <td>41</td>\n",
       "      <td>0</td>\n",
       "      <td>0</td>\n",
       "      <td>0</td>\n",
       "      <td>0</td>\n",
       "      <td>None</td>\n",
       "    </tr>\n",
       "    <tr>\n",
       "      <th>42</th>\n",
       "      <td>42</td>\n",
       "      <td>0</td>\n",
       "      <td>0</td>\n",
       "      <td>1</td>\n",
       "      <td>1</td>\n",
       "      <td>[0]</td>\n",
       "    </tr>\n",
       "    <tr>\n",
       "      <th>43</th>\n",
       "      <td>43</td>\n",
       "      <td>0</td>\n",
       "      <td>0</td>\n",
       "      <td>4</td>\n",
       "      <td>4</td>\n",
       "      <td>[0, 0, 0, 0]</td>\n",
       "    </tr>\n",
       "    <tr>\n",
       "      <th>44</th>\n",
       "      <td>44</td>\n",
       "      <td>1</td>\n",
       "      <td>0</td>\n",
       "      <td>0</td>\n",
       "      <td>1</td>\n",
       "      <td>[1]</td>\n",
       "    </tr>\n",
       "    <tr>\n",
       "      <th>45</th>\n",
       "      <td>45</td>\n",
       "      <td>0</td>\n",
       "      <td>0</td>\n",
       "      <td>2</td>\n",
       "      <td>2</td>\n",
       "      <td>[0, 0]</td>\n",
       "    </tr>\n",
       "    <tr>\n",
       "      <th>46</th>\n",
       "      <td>46</td>\n",
       "      <td>0</td>\n",
       "      <td>0</td>\n",
       "      <td>1</td>\n",
       "      <td>1</td>\n",
       "      <td>[0]</td>\n",
       "    </tr>\n",
       "    <tr>\n",
       "      <th>47</th>\n",
       "      <td>47</td>\n",
       "      <td>0</td>\n",
       "      <td>0</td>\n",
       "      <td>1</td>\n",
       "      <td>1</td>\n",
       "      <td>[0]</td>\n",
       "    </tr>\n",
       "    <tr>\n",
       "      <th>48</th>\n",
       "      <td>48</td>\n",
       "      <td>0</td>\n",
       "      <td>0</td>\n",
       "      <td>1</td>\n",
       "      <td>1</td>\n",
       "      <td>[0]</td>\n",
       "    </tr>\n",
       "    <tr>\n",
       "      <th>49</th>\n",
       "      <td>49</td>\n",
       "      <td>0</td>\n",
       "      <td>0</td>\n",
       "      <td>0</td>\n",
       "      <td>0</td>\n",
       "      <td>None</td>\n",
       "    </tr>\n",
       "  </tbody>\n",
       "</table>\n",
       "</div>"
      ],
      "text/plain": [
       "    mapped_feature_tweet_id  tweet_feature_number_of_video  \\\n",
       "0                         0                              0   \n",
       "1                         1                              0   \n",
       "2                         2                              0   \n",
       "3                         3                              0   \n",
       "4                         4                              0   \n",
       "5                         5                              0   \n",
       "6                         6                              0   \n",
       "7                         7                              0   \n",
       "8                         8                              0   \n",
       "9                         9                              0   \n",
       "10                       10                              1   \n",
       "11                       11                              0   \n",
       "12                       12                              0   \n",
       "13                       13                              0   \n",
       "14                       14                              1   \n",
       "15                       15                              0   \n",
       "16                       16                              1   \n",
       "17                       17                              1   \n",
       "18                       18                              0   \n",
       "19                       19                              0   \n",
       "20                       20                              0   \n",
       "21                       21                              1   \n",
       "22                       22                              0   \n",
       "23                       23                              0   \n",
       "24                       24                              1   \n",
       "25                       25                              0   \n",
       "26                       26                              0   \n",
       "27                       27                              0   \n",
       "28                       28                              0   \n",
       "29                       29                              0   \n",
       "30                       30                              0   \n",
       "31                       31                              0   \n",
       "32                       32                              0   \n",
       "33                       33                              0   \n",
       "34                       34                              1   \n",
       "35                       35                              0   \n",
       "36                       36                              0   \n",
       "37                       37                              0   \n",
       "38                       38                              0   \n",
       "39                       39                              0   \n",
       "40                       40                              0   \n",
       "41                       41                              0   \n",
       "42                       42                              0   \n",
       "43                       43                              0   \n",
       "44                       44                              1   \n",
       "45                       45                              0   \n",
       "46                       46                              0   \n",
       "47                       47                              0   \n",
       "48                       48                              0   \n",
       "49                       49                              0   \n",
       "\n",
       "    tweet_feature_number_of_gif  tweet_feature_number_of_photo  \\\n",
       "0                             0                              0   \n",
       "1                             0                              1   \n",
       "2                             0                              0   \n",
       "3                             0                              0   \n",
       "4                             0                              0   \n",
       "5                             0                              0   \n",
       "6                             0                              0   \n",
       "7                             0                              0   \n",
       "8                             0                              0   \n",
       "9                             0                              0   \n",
       "10                            0                              0   \n",
       "11                            0                              0   \n",
       "12                            0                              0   \n",
       "13                            0                              0   \n",
       "14                            0                              0   \n",
       "15                            0                              0   \n",
       "16                            0                              0   \n",
       "17                            0                              0   \n",
       "18                            0                              0   \n",
       "19                            0                              0   \n",
       "20                            0                              4   \n",
       "21                            0                              0   \n",
       "22                            0                              0   \n",
       "23                            0                              0   \n",
       "24                            0                              0   \n",
       "25                            0                              0   \n",
       "26                            0                              0   \n",
       "27                            0                              1   \n",
       "28                            0                              0   \n",
       "29                            0                              0   \n",
       "30                            0                              0   \n",
       "31                            0                              0   \n",
       "32                            0                              1   \n",
       "33                            0                              0   \n",
       "34                            0                              0   \n",
       "35                            0                              0   \n",
       "36                            0                              0   \n",
       "37                            0                              0   \n",
       "38                            0                              1   \n",
       "39                            0                              0   \n",
       "40                            0                              0   \n",
       "41                            0                              0   \n",
       "42                            0                              1   \n",
       "43                            0                              4   \n",
       "44                            0                              0   \n",
       "45                            0                              2   \n",
       "46                            0                              1   \n",
       "47                            0                              1   \n",
       "48                            0                              1   \n",
       "49                            0                              0   \n",
       "\n",
       "    tweet_feature_number_of_media mapped_feature_tweet_media  \n",
       "0                               0                       None  \n",
       "1                               1                        [0]  \n",
       "2                               0                       None  \n",
       "3                               0                       None  \n",
       "4                               0                       None  \n",
       "5                               0                       None  \n",
       "6                               0                       None  \n",
       "7                               0                       None  \n",
       "8                               0                       None  \n",
       "9                               0                       None  \n",
       "10                              1                        [1]  \n",
       "11                              0                       None  \n",
       "12                              0                       None  \n",
       "13                              0                       None  \n",
       "14                              1                        [1]  \n",
       "15                              0                       None  \n",
       "16                              1                        [1]  \n",
       "17                              1                        [1]  \n",
       "18                              0                       None  \n",
       "19                              0                       None  \n",
       "20                              4               [0, 0, 0, 0]  \n",
       "21                              1                        [1]  \n",
       "22                              0                       None  \n",
       "23                              0                       None  \n",
       "24                              1                        [1]  \n",
       "25                              0                       None  \n",
       "26                              0                       None  \n",
       "27                              1                        [0]  \n",
       "28                              0                       None  \n",
       "29                              0                       None  \n",
       "30                              0                       None  \n",
       "31                              0                       None  \n",
       "32                              1                        [0]  \n",
       "33                              0                       None  \n",
       "34                              1                        [1]  \n",
       "35                              0                       None  \n",
       "36                              0                       None  \n",
       "37                              0                       None  \n",
       "38                              1                        [0]  \n",
       "39                              0                       None  \n",
       "40                              0                       None  \n",
       "41                              0                       None  \n",
       "42                              1                        [0]  \n",
       "43                              4               [0, 0, 0, 0]  \n",
       "44                              1                        [1]  \n",
       "45                              2                     [0, 0]  \n",
       "46                              1                        [0]  \n",
       "47                              1                        [0]  \n",
       "48                              1                        [0]  \n",
       "49                              0                       None  "
      ]
     },
     "execution_count": 6,
     "metadata": {},
     "output_type": "execute_result"
    }
   ],
   "source": [
    "dataframe[:50]"
   ]
  },
  {
   "cell_type": "code",
   "execution_count": 7,
   "metadata": {},
   "outputs": [],
   "source": [
    "unique_tweet_dataframe = dataframe.drop_duplicates(\"mapped_feature_tweet_id\")"
   ]
  },
  {
   "cell_type": "code",
   "execution_count": 8,
   "metadata": {},
   "outputs": [],
   "source": [
    "total_amount_of_photo = unique_tweet_dataframe['tweet_feature_number_of_photo'].sum()\n",
    "total_amount_of_video = unique_tweet_dataframe['tweet_feature_number_of_video'].sum()\n",
    "total_amount_of_gif = unique_tweet_dataframe['tweet_feature_number_of_gif'].sum()\n",
    "total_amount_of_media = unique_tweet_dataframe['tweet_feature_number_of_media'].sum()"
   ]
  },
  {
   "cell_type": "code",
   "execution_count": 9,
   "metadata": {},
   "outputs": [
    {
     "name": "stdout",
     "output_type": "stream",
     "text": [
      "The amount of photos are 25628943, that are 0.7822 of all media\n",
      "The amount of photos are 6401016, that are 0.1954 of all media\n",
      "The amount of photos are 735361, that are 0.0224 of all media\n"
     ]
    },
    {
     "data": {
      "image/png": "[encoded data removed]",
      "text/plain": [
       "<Figure size 660x440 with 1 Axes>"
      ]
     },
     "metadata": {},
     "output_type": "display_data"
    }
   ],
   "source": [
    "print(f\"The amount of photos are {total_amount_of_photo}, that are {total_amount_of_photo/total_amount_of_media:.4f} of all media\")\n",
    "print(f\"The amount of photos are {total_amount_of_video}, that are {total_amount_of_video/total_amount_of_media:.4f} of all media\")\n",
    "print(f\"The amount of photos are {total_amount_of_gif}, that are {total_amount_of_gif/total_amount_of_media:.4f} of all media\")\n",
    "plt.pie([total_amount_of_photo, total_amount_of_video, total_amount_of_gif], labels=[\"Photo\", \"Video\", \"GIF\"])\n",
    "plt.show()"
   ]
  },
  {
   "cell_type": "code",
   "execution_count": 10,
   "metadata": {},
   "outputs": [
    {
     "data": {
      "text/plain": [
       "tweet_feature_number_of_media\n",
       "0    49976597\n",
       "1    18299622\n",
       "2     2896610\n",
       "3      835402\n",
       "4     1541568\n",
       "dtype: int64"
      ]
     },
     "execution_count": 10,
     "metadata": {},
     "output_type": "execute_result"
    }
   ],
   "source": [
    "unique_tweet_dataframe[['tweet_feature_number_of_video']].groupby('tweet_feature_number_of_video').size()\n",
    "unique_tweet_dataframe[['tweet_feature_number_of_gif']].groupby('tweet_feature_number_of_gif').size()\n",
    "unique_tweet_dataframe[['tweet_feature_number_of_media']].groupby('tweet_feature_number_of_media').size()"
   ]
  },
  {
   "cell_type": "code",
   "execution_count": 11,
   "metadata": {},
   "outputs": [
    {
     "name": "stdout",
     "output_type": "stream",
     "text": [
      "                                      0\n",
      "tweet_feature_number_of_photo          \n",
      "0                              57111970\n",
      "1                              11165126\n",
      "2                               2895816\n",
      "3                                835363\n",
      "4                               1541524\n"
     ]
    },
    {
     "data": {
      "text/plain": [
       "Text(0, 0.5, 'Number of tweet with X photo')"
      ]
     },
     "execution_count": 11,
     "metadata": {},
     "output_type": "execute_result"
    },
    {
     "data": {
      "image/png": "[encoded data removed]",
      "text/plain": [
       "<Figure size 660x440 with 1 Axes>"
      ]
     },
     "metadata": {
      "needs_background": "light"
     },
     "output_type": "display_data"
    }
   ],
   "source": [
    "aggregate_result = pd.DataFrame(unique_tweet_dataframe[['tweet_feature_number_of_photo']].groupby(\"tweet_feature_number_of_photo\").size())\n",
    "print(aggregate_result)\n",
    "plot = aggregate_result.plot(kind=\"bar\")\n",
    "plot.set_xlabel('Number of Photo')\n",
    "plot.set_ylabel('Number of tweet with X photo')"
   ]
  },
  {
   "cell_type": "code",
   "execution_count": 12,
   "metadata": {},
   "outputs": [
    {
     "name": "stdout",
     "output_type": "stream",
     "text": [
      "                                      0\n",
      "tweet_feature_number_of_video          \n",
      "0                              67149298\n",
      "1                               6400048\n",
      "2                                   409\n",
      "3                                    26\n",
      "4                                    18\n"
     ]
    },
    {
     "data": {
      "text/plain": [
       "Text(0, 0.5, 'Number of tweet with X video')"
      ]
     },
     "execution_count": 12,
     "metadata": {},
     "output_type": "execute_result"
    },
    {
     "data": {
      "image/png": "[encoded data removed]",
      "text/plain": [
       "<Figure size 660x440 with 1 Axes>"
      ]
     },
     "metadata": {
      "needs_background": "light"
     },
     "output_type": "display_data"
    }
   ],
   "source": [
    "aggregate_result = pd.DataFrame(unique_tweet_dataframe[['tweet_feature_number_of_video']].groupby('tweet_feature_number_of_video').size())\n",
    "print(aggregate_result)\n",
    "plot = aggregate_result.plot(kind=\"bar\")\n",
    "plot.set_xlabel('Number of Video')\n",
    "plot.set_ylabel('Number of tweet with X video')"
   ]
  },
  {
   "cell_type": "code",
   "execution_count": 13,
   "metadata": {},
   "outputs": [
    {
     "name": "stdout",
     "output_type": "stream",
     "text": [
      "                                    0\n",
      "tweet_feature_number_of_gif          \n",
      "0                            72814449\n",
      "1                              735339\n",
      "2                                  11\n"
     ]
    },
    {
     "data": {
      "text/plain": [
       "Text(0, 0.5, 'Number of tweet with X gif')"
      ]
     },
     "execution_count": 13,
     "metadata": {},
     "output_type": "execute_result"
    },
    {
     "data": {
      "image/png": "[encoded data removed]",
      "text/plain": [
       "<Figure size 660x440 with 1 Axes>"
      ]
     },
     "metadata": {
      "needs_background": "light"
     },
     "output_type": "display_data"
    }
   ],
   "source": [
    "aggregate_result = pd.DataFrame(unique_tweet_dataframe[['tweet_feature_number_of_gif']].groupby(\"tweet_feature_number_of_gif\").size())\n",
    "print(aggregate_result)\n",
    "plot = aggregate_result.plot(kind=\"bar\")\n",
    "plot.set_xlabel('Number of GIF')\n",
    "plot.set_ylabel('Number of tweet with X gif')"
   ]
  },
  {
   "cell_type": "code",
   "execution_count": 14,
   "metadata": {},
   "outputs": [
    {
     "name": "stdout",
     "output_type": "stream",
     "text": [
      "                                      0\n",
      "tweet_feature_number_of_media          \n",
      "0                              49976597\n",
      "1                              18299622\n",
      "2                               2896610\n",
      "3                                835402\n",
      "4                               1541568\n"
     ]
    },
    {
     "data": {
      "text/plain": [
       "Text(0, 0.5, 'Number of tweet with X media')"
      ]
     },
     "execution_count": 14,
     "metadata": {},
     "output_type": "execute_result"
    },
    {
     "data": {
      "image/png": "[encoded data removed]",
      "text/plain": [
       "<Figure size 660x440 with 1 Axes>"
      ]
     },
     "metadata": {
      "needs_background": "light"
     },
     "output_type": "display_data"
    }
   ],
   "source": [
    "aggregate_result = pd.DataFrame(unique_tweet_dataframe[['tweet_feature_number_of_media']].groupby(\"tweet_feature_number_of_media\").size())\n",
    "print(aggregate_result)\n",
    "plot = aggregate_result.plot(kind=\"bar\")\n",
    "plot.set_xlabel('Number of Media')\n",
    "plot.set_ylabel('Number of tweet with X media')"
   ]
  },
  {
   "cell_type": "markdown",
   "metadata": {},
   "source": [
    "## Let's see if there's a correlation between number of media and the type of engagement involved in the engagement"
   ]
  },
  {
   "cell_type": "code",
   "execution_count": 15,
   "metadata": {},
   "outputs": [],
   "source": [
    "del unique_tweet_dataframe"
   ]
  },
  {
   "cell_type": "code",
   "execution_count": 16,
   "metadata": {},
   "outputs": [
    {
     "data": {
      "text/html": [
       "<div>\n",
       "<style scoped>\n",
       "    .dataframe tbody tr th:only-of-type {\n",
       "        vertical-align: middle;\n",
       "    }\n",
       "\n",
       "    .dataframe tbody tr th {\n",
       "        vertical-align: top;\n",
       "    }\n",
       "\n",
       "    .dataframe thead th {\n",
       "        text-align: right;\n",
       "    }\n",
       "</style>\n",
       "<table border=\"1\" class=\"dataframe\">\n",
       "  <thead>\n",
       "    <tr style=\"text-align: right;\">\n",
       "      <th></th>\n",
       "      <th>tweet_feature_number_of_media</th>\n",
       "      <th>tweet_feature_engagement_is_like</th>\n",
       "      <th>tweet_feature_engagement_is_retweet</th>\n",
       "      <th>tweet_feature_engagement_is_reply</th>\n",
       "      <th>tweet_feature_engagement_is_comment</th>\n",
       "      <th>tweet_feature_engagement_is_negative</th>\n",
       "      <th>tweet_feature_engagement_is_positive</th>\n",
       "    </tr>\n",
       "  </thead>\n",
       "  <tbody>\n",
       "    <tr>\n",
       "      <th>0</th>\n",
       "      <td>0</td>\n",
       "      <td>False</td>\n",
       "      <td>False</td>\n",
       "      <td>False</td>\n",
       "      <td>False</td>\n",
       "      <td>True</td>\n",
       "      <td>0</td>\n",
       "    </tr>\n",
       "    <tr>\n",
       "      <th>1</th>\n",
       "      <td>1</td>\n",
       "      <td>False</td>\n",
       "      <td>False</td>\n",
       "      <td>False</td>\n",
       "      <td>False</td>\n",
       "      <td>True</td>\n",
       "      <td>0</td>\n",
       "    </tr>\n",
       "    <tr>\n",
       "      <th>2</th>\n",
       "      <td>0</td>\n",
       "      <td>True</td>\n",
       "      <td>False</td>\n",
       "      <td>False</td>\n",
       "      <td>False</td>\n",
       "      <td>False</td>\n",
       "      <td>1</td>\n",
       "    </tr>\n",
       "    <tr>\n",
       "      <th>3</th>\n",
       "      <td>0</td>\n",
       "      <td>False</td>\n",
       "      <td>False</td>\n",
       "      <td>False</td>\n",
       "      <td>False</td>\n",
       "      <td>True</td>\n",
       "      <td>0</td>\n",
       "    </tr>\n",
       "    <tr>\n",
       "      <th>4</th>\n",
       "      <td>0</td>\n",
       "      <td>False</td>\n",
       "      <td>False</td>\n",
       "      <td>False</td>\n",
       "      <td>False</td>\n",
       "      <td>True</td>\n",
       "      <td>0</td>\n",
       "    </tr>\n",
       "    <tr>\n",
       "      <th>...</th>\n",
       "      <td>...</td>\n",
       "      <td>...</td>\n",
       "      <td>...</td>\n",
       "      <td>...</td>\n",
       "      <td>...</td>\n",
       "      <td>...</td>\n",
       "      <td>...</td>\n",
       "    </tr>\n",
       "    <tr>\n",
       "      <th>148075233</th>\n",
       "      <td>0</td>\n",
       "      <td>False</td>\n",
       "      <td>False</td>\n",
       "      <td>False</td>\n",
       "      <td>False</td>\n",
       "      <td>True</td>\n",
       "      <td>0</td>\n",
       "    </tr>\n",
       "    <tr>\n",
       "      <th>148075234</th>\n",
       "      <td>0</td>\n",
       "      <td>False</td>\n",
       "      <td>False</td>\n",
       "      <td>False</td>\n",
       "      <td>False</td>\n",
       "      <td>True</td>\n",
       "      <td>0</td>\n",
       "    </tr>\n",
       "    <tr>\n",
       "      <th>148075235</th>\n",
       "      <td>0</td>\n",
       "      <td>True</td>\n",
       "      <td>True</td>\n",
       "      <td>False</td>\n",
       "      <td>False</td>\n",
       "      <td>False</td>\n",
       "      <td>2</td>\n",
       "    </tr>\n",
       "    <tr>\n",
       "      <th>148075236</th>\n",
       "      <td>0</td>\n",
       "      <td>True</td>\n",
       "      <td>False</td>\n",
       "      <td>False</td>\n",
       "      <td>False</td>\n",
       "      <td>False</td>\n",
       "      <td>1</td>\n",
       "    </tr>\n",
       "    <tr>\n",
       "      <th>148075237</th>\n",
       "      <td>0</td>\n",
       "      <td>False</td>\n",
       "      <td>False</td>\n",
       "      <td>False</td>\n",
       "      <td>False</td>\n",
       "      <td>True</td>\n",
       "      <td>0</td>\n",
       "    </tr>\n",
       "  </tbody>\n",
       "</table>\n",
       "<p>148075238 rows × 7 columns</p>\n",
       "</div>"
      ],
      "text/plain": [
       "           tweet_feature_number_of_media  tweet_feature_engagement_is_like  \\\n",
       "0                                      0                             False   \n",
       "1                                      1                             False   \n",
       "2                                      0                              True   \n",
       "3                                      0                             False   \n",
       "4                                      0                             False   \n",
       "...                                  ...                               ...   \n",
       "148075233                              0                             False   \n",
       "148075234                              0                             False   \n",
       "148075235                              0                              True   \n",
       "148075236                              0                              True   \n",
       "148075237                              0                             False   \n",
       "\n",
       "           tweet_feature_engagement_is_retweet  \\\n",
       "0                                        False   \n",
       "1                                        False   \n",
       "2                                        False   \n",
       "3                                        False   \n",
       "4                                        False   \n",
       "...                                        ...   \n",
       "148075233                                False   \n",
       "148075234                                False   \n",
       "148075235                                 True   \n",
       "148075236                                False   \n",
       "148075237                                False   \n",
       "\n",
       "           tweet_feature_engagement_is_reply  \\\n",
       "0                                      False   \n",
       "1                                      False   \n",
       "2                                      False   \n",
       "3                                      False   \n",
       "4                                      False   \n",
       "...                                      ...   \n",
       "148075233                              False   \n",
       "148075234                              False   \n",
       "148075235                              False   \n",
       "148075236                              False   \n",
       "148075237                              False   \n",
       "\n",
       "           tweet_feature_engagement_is_comment  \\\n",
       "0                                        False   \n",
       "1                                        False   \n",
       "2                                        False   \n",
       "3                                        False   \n",
       "4                                        False   \n",
       "...                                        ...   \n",
       "148075233                                False   \n",
       "148075234                                False   \n",
       "148075235                                False   \n",
       "148075236                                False   \n",
       "148075237                                False   \n",
       "\n",
       "           tweet_feature_engagement_is_negative  \\\n",
       "0                                          True   \n",
       "1                                          True   \n",
       "2                                         False   \n",
       "3                                          True   \n",
       "4                                          True   \n",
       "...                                         ...   \n",
       "148075233                                  True   \n",
       "148075234                                  True   \n",
       "148075235                                 False   \n",
       "148075236                                 False   \n",
       "148075237                                  True   \n",
       "\n",
       "           tweet_feature_engagement_is_positive  \n",
       "0                                             0  \n",
       "1                                             0  \n",
       "2                                             1  \n",
       "3                                             0  \n",
       "4                                             0  \n",
       "...                                         ...  \n",
       "148075233                                     0  \n",
       "148075234                                     0  \n",
       "148075235                                     2  \n",
       "148075236                                     1  \n",
       "148075237                                     0  \n",
       "\n",
       "[148075238 rows x 7 columns]"
      ]
     },
     "execution_count": 16,
     "metadata": {},
     "output_type": "execute_result"
    }
   ],
   "source": [
    "# Load the engagement type\n",
    "cols = [\n",
    "    \"tweet_feature_engagement_is_like\",\n",
    "    \"tweet_feature_engagement_is_retweet\",\n",
    "    \"tweet_feature_engagement_is_reply\",\n",
    "    \"tweet_feature_engagement_is_comment\",\n",
    "    \"tweet_feature_engagement_is_negative\"\n",
    "]\n",
    "\n",
    "# Load the data\n",
    "dataframe = pd.concat([\n",
    "    dataframe[['tweet_feature_number_of_media']],\n",
    "    get_dataset(cols, dataset_id)\n",
    "], axis=1)\n",
    "\n",
    "dataframe['tweet_feature_engagement_is_positive'] = dataframe[[\n",
    "    \"tweet_feature_engagement_is_like\",\n",
    "    \"tweet_feature_engagement_is_retweet\",\n",
    "    \"tweet_feature_engagement_is_reply\",\n",
    "    \"tweet_feature_engagement_is_comment\"\n",
    "]].sum(axis=1)\n",
    "\n",
    "dataframe"
   ]
  },
  {
   "cell_type": "code",
   "execution_count": 17,
   "metadata": {},
   "outputs": [
    {
     "name": "stdout",
     "output_type": "stream",
     "text": [
      "<class 'pandas.core.frame.DataFrame'>\n",
      "RangeIndex: 148075238 entries, 0 to 148075237\n",
      "Data columns (total 7 columns):\n",
      " #   Column                                Dtype\n",
      "---  ------                                -----\n",
      " 0   tweet_feature_number_of_media         int64\n",
      " 1   tweet_feature_engagement_is_like      bool \n",
      " 2   tweet_feature_engagement_is_retweet   bool \n",
      " 3   tweet_feature_engagement_is_reply     bool \n",
      " 4   tweet_feature_engagement_is_comment   bool \n",
      " 5   tweet_feature_engagement_is_negative  bool \n",
      " 6   tweet_feature_engagement_is_positive  int64\n",
      "dtypes: bool(5), int64(2)\n",
      "memory usage: 2.9 GB\n"
     ]
    }
   ],
   "source": [
    "dataframe.info()"
   ]
  },
  {
   "cell_type": "code",
   "execution_count": 22,
   "metadata": {},
   "outputs": [],
   "source": [
    "result = pd.DataFrame(dataframe.groupby(\"tweet_feature_number_of_media\").sum())"
   ]
  },
  {
   "cell_type": "code",
   "execution_count": 23,
   "metadata": {},
   "outputs": [],
   "source": [
    "result['n_engagements'] = pd.DataFrame(dataframe.groupby(\"tweet_feature_number_of_media\").size())"
   ]
  },
  {
   "cell_type": "code",
   "execution_count": 24,
   "metadata": {},
   "outputs": [],
   "source": [
    "result['like_ratio'] = result['tweet_feature_engagement_is_like'] / result['n_engagements']\n",
    "result['retweet_ratio'] = result['tweet_feature_engagement_is_retweet'] / result['n_engagements'] \n",
    "result['reply_ratio'] = result['tweet_feature_engagement_is_reply'] / result['n_engagements'] \n",
    "result['comment_ratio'] = result['tweet_feature_engagement_is_comment'] / result['n_engagements'] \n",
    "result['negative_ratio'] = result['tweet_feature_engagement_is_negative'] / result['n_engagements']"
   ]
  },
  {
   "cell_type": "markdown",
   "metadata": {},
   "source": [
    "#### Plot for all type of engagement"
   ]
  },
  {
   "cell_type": "code",
   "execution_count": 25,
   "metadata": {},
   "outputs": [
    {
     "data": {
      "text/plain": [
       "Text(0, 0.5, 'Probability it is involved in that type of engagement')"
      ]
     },
     "execution_count": 25,
     "metadata": {},
     "output_type": "execute_result"
    },
    {
     "data": {
      "image/png": "[encoded data removed]",
      "text/plain": [
       "<Figure size 1650x550 with 1 Axes>"
      ]
     },
     "metadata": {
      "needs_background": "light"
     },
     "output_type": "display_data"
    }
   ],
   "source": [
    "plt.rcParams['figure.figsize'] = [15, 5]\n",
    "plot = result[[\n",
    "    'like_ratio',\n",
    "    'reply_ratio',\n",
    "    'retweet_ratio',\n",
    "    'comment_ratio',\n",
    "    'negative_ratio'\n",
    "]].plot(kind=\"bar\")\n",
    "plot.set_xlabel(\"Number of media in a tweet\")\n",
    "plot.set_ylabel(\"Probability it is involved in that type of engagement\")"
   ]
  },
  {
   "cell_type": "code",
   "execution_count": 34,
   "metadata": {},
   "outputs": [
    {
     "data": {
      "text/plain": [
       "<matplotlib.lines.Line2D at 0x7fb61e0236d0>"
      ]
     },
     "execution_count": 34,
     "metadata": {},
     "output_type": "execute_result"
    },
    {
     "data": {
      "image/png": "[encoded data removed]",
      "text/plain": [
       "<Figure size 1100x550 with 1 Axes>"
      ]
     },
     "metadata": {
      "needs_background": "light"
     },
     "output_type": "display_data"
    }
   ],
   "source": [
    "plt.rcParams['figure.figsize'] = [10, 5]\n",
    "plot = result[[\n",
    "    'like_ratio'\n",
    "]].plot(kind=\"bar\")\n",
    "plot.set_xlabel(\"Number of media in a tweet\")\n",
    "plot.set_ylabel(\"Like ratio\")\n",
    "plot.axhline(0.4392, color=\"red\") # Computed before, see notebook that analyze the engagements"
   ]
  },
  {
   "cell_type": "code",
   "execution_count": 35,
   "metadata": {},
   "outputs": [
    {
     "data": {
      "text/plain": [
       "<matplotlib.lines.Line2D at 0x7fb626376790>"
      ]
     },
     "execution_count": 35,
     "metadata": {},
     "output_type": "execute_result"
    },
    {
     "data": {
      "image/png": "[encoded data removed]",
      "text/plain": [
       "<Figure size 1100x550 with 1 Axes>"
      ]
     },
     "metadata": {
      "needs_background": "light"
     },
     "output_type": "display_data"
    }
   ],
   "source": [
    "plt.rcParams['figure.figsize'] = [10, 5]\n",
    "plot = result[[\n",
    "    'reply_ratio'\n",
    "]].plot(kind=\"bar\")\n",
    "plot.set_xlabel(\"Number of media in a tweet\")\n",
    "plot.set_ylabel(\"Reply ratio\")\n",
    "plot.axhline(0.0274, color=\"red\") # Computed before, see notebook that analyze the engagements"
   ]
  },
  {
   "cell_type": "code",
   "execution_count": 36,
   "metadata": {},
   "outputs": [
    {
     "data": {
      "text/plain": [
       "<matplotlib.lines.Line2D at 0x7fb61893d250>"
      ]
     },
     "execution_count": 36,
     "metadata": {},
     "output_type": "execute_result"
    },
    {
     "data": {
      "image/png": "[encoded data removed]",
      "text/plain": [
       "<Figure size 1100x550 with 1 Axes>"
      ]
     },
     "metadata": {
      "needs_background": "light"
     },
     "output_type": "display_data"
    }
   ],
   "source": [
    "plt.rcParams['figure.figsize'] = [10, 5]\n",
    "plot = result[[\n",
    "    'retweet_ratio'\n",
    "]].plot(kind=\"bar\")\n",
    "plot.set_xlabel(\"Number of media in a tweet\")\n",
    "plot.set_ylabel(\"Retweet ratio\")\n",
    "plot.axhline(0.1131, color=\"red\") # Computed before, see notebook that analyze the engagements"
   ]
  },
  {
   "cell_type": "code",
   "execution_count": 37,
   "metadata": {},
   "outputs": [
    {
     "data": {
      "text/plain": [
       "<matplotlib.lines.Line2D at 0x7fb62636b8d0>"
      ]
     },
     "execution_count": 37,
     "metadata": {},
     "output_type": "execute_result"
    },
    {
     "data": {
      "image/png": "[encoded data removed]",
      "text/plain": [
       "<Figure size 1100x550 with 1 Axes>"
      ]
     },
     "metadata": {
      "needs_background": "light"
     },
     "output_type": "display_data"
    }
   ],
   "source": [
    "plt.rcParams['figure.figsize'] = [10, 5]\n",
    "plot = result[[\n",
    "    'comment_ratio'\n",
    "]].plot(kind=\"bar\")\n",
    "plot.set_xlabel(\"Number of media in a tweet\")\n",
    "plot.set_ylabel(\"Retweet with comment ratio\")\n",
    "plot.axhline(0.0078, color=\"red\") # Computed before, see notebook that analyze the engagements"
   ]
  },
  {
   "cell_type": "code",
   "execution_count": null,
   "metadata": {},
   "outputs": [],
   "source": []
  }
 ],
 "metadata": {
  "kernelspec": {
   "display_name": "Python 3",
   "language": "python",
   "name": "python3"
  },
  "language_info": {
   "codemirror_mode": {
    "name": "ipython",
    "version": 3
   },
   "file_extension": ".py",
   "mimetype": "text/x-python",
   "name": "python",
   "nbconvert_exporter": "python",
   "pygments_lexer": "ipython3",
   "version": "3.7.6"
  }
 },
 "nbformat": 4,
 "nbformat_minor": 4
}
