{
 "cells": [
  {
   "cell_type": "code",
   "execution_count": 1,
   "metadata": {},
   "outputs": [
    {
     "data": {
      "text/plain": [
       "'en_US.UTF-8'"
      ]
     },
     "execution_count": 1,
     "metadata": {},
     "output_type": "execute_result"
    }
   ],
   "source": [
    "# Set project root\n",
    "import os\n",
    "os.chdir('./..')\n",
    "\n",
    "# Setting locale for pretty printing\n",
    "import locale\n",
    "locale.setlocale(locale.LC_ALL, '')"
   ]
  },
  {
   "cell_type": "code",
   "execution_count": 2,
   "metadata": {},
   "outputs": [],
   "source": [
    "# Importing something that can be useful, I hope\n",
    "from Utils.Data.Data import get_feature, get_dataset, get_dictionary\n",
    "import matplotlib.pyplot as plt\n",
    "plt.rcParams['figure.dpi'] = 110\n",
    "import pandas as pd\n",
    "import numpy as np"
   ]
  },
  {
   "cell_type": "markdown",
   "metadata": {},
   "source": [
    "# Train dataset analysis"
   ]
  },
  {
   "cell_type": "code",
   "execution_count": 3,
   "metadata": {},
   "outputs": [],
   "source": [
    "columns = [\n",
    "    \"tweet_feature_engagement_is_like\",\n",
    "    \"tweet_feature_engagement_is_retweet\",\n",
    "    \"tweet_feature_engagement_is_reply\",\n",
    "    \"tweet_feature_engagement_is_comment\",\n",
    "    \"tweet_feature_engagement_is_positive\",\n",
    "    \"tweet_feature_engagement_is_negative\"\n",
    "]\n",
    "dataset_id = \"train\""
   ]
  },
  {
   "cell_type": "code",
   "execution_count": 4,
   "metadata": {},
   "outputs": [
    {
     "data": {
      "text/html": [
       "<div>\n",
       "<style scoped>\n",
       "    .dataframe tbody tr th:only-of-type {\n",
       "        vertical-align: middle;\n",
       "    }\n",
       "\n",
       "    .dataframe tbody tr th {\n",
       "        vertical-align: top;\n",
       "    }\n",
       "\n",
       "    .dataframe thead th {\n",
       "        text-align: right;\n",
       "    }\n",
       "</style>\n",
       "<table border=\"1\" class=\"dataframe\">\n",
       "  <thead>\n",
       "    <tr style=\"text-align: right;\">\n",
       "      <th></th>\n",
       "      <th>tweet_feature_engagement_is_like</th>\n",
       "      <th>tweet_feature_engagement_is_retweet</th>\n",
       "      <th>tweet_feature_engagement_is_reply</th>\n",
       "      <th>tweet_feature_engagement_is_comment</th>\n",
       "      <th>tweet_feature_engagement_is_positive</th>\n",
       "      <th>tweet_feature_engagement_is_negative</th>\n",
       "    </tr>\n",
       "  </thead>\n",
       "  <tbody>\n",
       "    <tr>\n",
       "      <th>0</th>\n",
       "      <td>False</td>\n",
       "      <td>False</td>\n",
       "      <td>False</td>\n",
       "      <td>False</td>\n",
       "      <td>False</td>\n",
       "      <td>True</td>\n",
       "    </tr>\n",
       "    <tr>\n",
       "      <th>1</th>\n",
       "      <td>False</td>\n",
       "      <td>False</td>\n",
       "      <td>False</td>\n",
       "      <td>False</td>\n",
       "      <td>False</td>\n",
       "      <td>True</td>\n",
       "    </tr>\n",
       "    <tr>\n",
       "      <th>2</th>\n",
       "      <td>True</td>\n",
       "      <td>False</td>\n",
       "      <td>False</td>\n",
       "      <td>False</td>\n",
       "      <td>True</td>\n",
       "      <td>False</td>\n",
       "    </tr>\n",
       "    <tr>\n",
       "      <th>3</th>\n",
       "      <td>False</td>\n",
       "      <td>False</td>\n",
       "      <td>False</td>\n",
       "      <td>False</td>\n",
       "      <td>False</td>\n",
       "      <td>True</td>\n",
       "    </tr>\n",
       "    <tr>\n",
       "      <th>4</th>\n",
       "      <td>False</td>\n",
       "      <td>False</td>\n",
       "      <td>False</td>\n",
       "      <td>False</td>\n",
       "      <td>False</td>\n",
       "      <td>True</td>\n",
       "    </tr>\n",
       "    <tr>\n",
       "      <th>...</th>\n",
       "      <td>...</td>\n",
       "      <td>...</td>\n",
       "      <td>...</td>\n",
       "      <td>...</td>\n",
       "      <td>...</td>\n",
       "      <td>...</td>\n",
       "    </tr>\n",
       "    <tr>\n",
       "      <th>148075233</th>\n",
       "      <td>False</td>\n",
       "      <td>False</td>\n",
       "      <td>False</td>\n",
       "      <td>False</td>\n",
       "      <td>False</td>\n",
       "      <td>True</td>\n",
       "    </tr>\n",
       "    <tr>\n",
       "      <th>148075234</th>\n",
       "      <td>False</td>\n",
       "      <td>False</td>\n",
       "      <td>False</td>\n",
       "      <td>False</td>\n",
       "      <td>False</td>\n",
       "      <td>True</td>\n",
       "    </tr>\n",
       "    <tr>\n",
       "      <th>148075235</th>\n",
       "      <td>True</td>\n",
       "      <td>True</td>\n",
       "      <td>False</td>\n",
       "      <td>False</td>\n",
       "      <td>True</td>\n",
       "      <td>False</td>\n",
       "    </tr>\n",
       "    <tr>\n",
       "      <th>148075236</th>\n",
       "      <td>True</td>\n",
       "      <td>False</td>\n",
       "      <td>False</td>\n",
       "      <td>False</td>\n",
       "      <td>True</td>\n",
       "      <td>False</td>\n",
       "    </tr>\n",
       "    <tr>\n",
       "      <th>148075237</th>\n",
       "      <td>False</td>\n",
       "      <td>False</td>\n",
       "      <td>False</td>\n",
       "      <td>False</td>\n",
       "      <td>False</td>\n",
       "      <td>True</td>\n",
       "    </tr>\n",
       "  </tbody>\n",
       "</table>\n",
       "<p>148075238 rows × 6 columns</p>\n",
       "</div>"
      ],
      "text/plain": [
       "           tweet_feature_engagement_is_like  \\\n",
       "0                                     False   \n",
       "1                                     False   \n",
       "2                                      True   \n",
       "3                                     False   \n",
       "4                                     False   \n",
       "...                                     ...   \n",
       "148075233                             False   \n",
       "148075234                             False   \n",
       "148075235                              True   \n",
       "148075236                              True   \n",
       "148075237                             False   \n",
       "\n",
       "           tweet_feature_engagement_is_retweet  \\\n",
       "0                                        False   \n",
       "1                                        False   \n",
       "2                                        False   \n",
       "3                                        False   \n",
       "4                                        False   \n",
       "...                                        ...   \n",
       "148075233                                False   \n",
       "148075234                                False   \n",
       "148075235                                 True   \n",
       "148075236                                False   \n",
       "148075237                                False   \n",
       "\n",
       "           tweet_feature_engagement_is_reply  \\\n",
       "0                                      False   \n",
       "1                                      False   \n",
       "2                                      False   \n",
       "3                                      False   \n",
       "4                                      False   \n",
       "...                                      ...   \n",
       "148075233                              False   \n",
       "148075234                              False   \n",
       "148075235                              False   \n",
       "148075236                              False   \n",
       "148075237                              False   \n",
       "\n",
       "           tweet_feature_engagement_is_comment  \\\n",
       "0                                        False   \n",
       "1                                        False   \n",
       "2                                        False   \n",
       "3                                        False   \n",
       "4                                        False   \n",
       "...                                        ...   \n",
       "148075233                                False   \n",
       "148075234                                False   \n",
       "148075235                                False   \n",
       "148075236                                False   \n",
       "148075237                                False   \n",
       "\n",
       "           tweet_feature_engagement_is_positive  \\\n",
       "0                                         False   \n",
       "1                                         False   \n",
       "2                                          True   \n",
       "3                                         False   \n",
       "4                                         False   \n",
       "...                                         ...   \n",
       "148075233                                 False   \n",
       "148075234                                 False   \n",
       "148075235                                  True   \n",
       "148075236                                  True   \n",
       "148075237                                 False   \n",
       "\n",
       "           tweet_feature_engagement_is_negative  \n",
       "0                                          True  \n",
       "1                                          True  \n",
       "2                                         False  \n",
       "3                                          True  \n",
       "4                                          True  \n",
       "...                                         ...  \n",
       "148075233                                  True  \n",
       "148075234                                  True  \n",
       "148075235                                 False  \n",
       "148075236                                 False  \n",
       "148075237                                  True  \n",
       "\n",
       "[148075238 rows x 6 columns]"
      ]
     },
     "execution_count": 4,
     "metadata": {},
     "output_type": "execute_result"
    }
   ],
   "source": [
    "# Load the data\n",
    "dataframe = get_dataset(columns, dataset_id)\n",
    "dataframe"
   ]
  },
  {
   "cell_type": "code",
   "execution_count": 5,
   "metadata": {},
   "outputs": [
    {
     "name": "stdout",
     "output_type": "stream",
     "text": [
      "<class 'pandas.core.frame.DataFrame'>\n",
      "RangeIndex: 148075238 entries, 0 to 148075237\n",
      "Data columns (total 6 columns):\n",
      " #   Column                                Dtype\n",
      "---  ------                                -----\n",
      " 0   tweet_feature_engagement_is_like      bool \n",
      " 1   tweet_feature_engagement_is_retweet   bool \n",
      " 2   tweet_feature_engagement_is_reply     bool \n",
      " 3   tweet_feature_engagement_is_comment   bool \n",
      " 4   tweet_feature_engagement_is_positive  bool \n",
      " 5   tweet_feature_engagement_is_negative  bool \n",
      "dtypes: bool(6)\n",
      "memory usage: 847.3 MB\n"
     ]
    }
   ],
   "source": [
    "dataframe.info()"
   ]
  },
  {
   "cell_type": "markdown",
   "metadata": {},
   "source": [
    "## Number of a certain type of engagement with respect to the total amount of engagements"
   ]
  },
  {
   "cell_type": "markdown",
   "metadata": {},
   "source": [
    "I don't know how to plot a pie chart, so I hope you can still enjoy some percentages"
   ]
  },
  {
   "cell_type": "code",
   "execution_count": 6,
   "metadata": {},
   "outputs": [
    {
     "data": {
      "text/plain": [
       "148075238"
      ]
     },
     "execution_count": 6,
     "metadata": {},
     "output_type": "execute_result"
    }
   ],
   "source": [
    "# Storing the total amount of engagements\n",
    "n_engagements = len(dataframe['tweet_feature_engagement_is_like'])\n",
    "n_engagements"
   ]
  },
  {
   "cell_type": "code",
   "execution_count": 7,
   "metadata": {},
   "outputs": [],
   "source": [
    "n_positive_engagements = dataframe['tweet_feature_engagement_is_positive'].sum()\n",
    "n_negative_engagements = dataframe['tweet_feature_engagement_is_negative'].sum()\n",
    "n_like_engagements = dataframe['tweet_feature_engagement_is_like'].sum()\n",
    "n_retweet_engagements = dataframe['tweet_feature_engagement_is_retweet'].sum()\n",
    "n_reply_engagements = dataframe['tweet_feature_engagement_is_reply'].sum()\n",
    "n_comment_engagements = dataframe['tweet_feature_engagement_is_comment'].sum()"
   ]
  },
  {
   "cell_type": "code",
   "execution_count": 8,
   "metadata": {},
   "outputs": [
    {
     "name": "stdout",
     "output_type": "stream",
     "text": [
      "Positive engagements are: 75,649,149 (0.5109%)\n",
      "Negative engagements are: 74,825,515 (0.5053%)\n",
      "Like engagements are: 65,031,581 (0.4392%)\n",
      "Retweet engagements are: 16,745,818 (0.1131%)\n",
      "Reply engagements are: 4,064,104 (0.0274%)\n",
      "Comment engagements are: 1,153,450 (0.0078%)\n"
     ]
    },
    {
     "data": {
      "image/png": "[encoded data removed]",
      "text/plain": [
       "<Figure size 660x440 with 1 Axes>"
      ]
     },
     "metadata": {},
     "output_type": "display_data"
    }
   ],
   "source": [
    "print(f\"Positive engagements are: {int(n_positive_engagements):n} ({int(n_positive_engagements)/n_engagements:.4f}%)\")\n",
    "print(f\"Negative engagements are: {int(n_negative_engagements):n} ({int(n_negative_engagements)/n_engagements:.4f}%)\")\n",
    "print(f\"Like engagements are: {int(n_like_engagements):n} ({int(n_like_engagements)/n_engagements:.4f}%)\")\n",
    "print(f\"Retweet engagements are: {int(n_retweet_engagements):n} ({int(n_retweet_engagements)/n_engagements:.4f}%)\")\n",
    "print(f\"Reply engagements are: {int(n_reply_engagements):n} ({int(n_reply_engagements)/n_engagements:.4f}%)\")\n",
    "print(f\"Comment engagements are: {int(n_comment_engagements):n} ({int(n_comment_engagements)/n_engagements:.4f}%)\")\n",
    "plt.pie([n_positive_engagements, n_negative_engagements])\n",
    "plt.show()"
   ]
  },
  {
   "cell_type": "markdown",
   "metadata": {},
   "source": [
    "## Number of rows that involves more than one engagement"
   ]
  },
  {
   "cell_type": "code",
   "execution_count": 9,
   "metadata": {},
   "outputs": [
    {
     "data": {
      "text/plain": [
       "0            0\n",
       "1            0\n",
       "2            1\n",
       "3            0\n",
       "4            0\n",
       "            ..\n",
       "148075233    0\n",
       "148075234    0\n",
       "148075235    2\n",
       "148075236    1\n",
       "148075237    0\n",
       "Name: number_of_engagements, Length: 148075238, dtype: uint8"
      ]
     },
     "execution_count": 9,
     "metadata": {},
     "output_type": "execute_result"
    }
   ],
   "source": [
    "dataframe['number_of_engagements'] = dataframe[[\n",
    "    \"tweet_feature_engagement_is_like\",\n",
    "    \"tweet_feature_engagement_is_retweet\",\n",
    "    \"tweet_feature_engagement_is_reply\",\n",
    "    \"tweet_feature_engagement_is_comment\",\n",
    "]].sum(axis=1).astype(np.uint8)\n",
    "dataframe['number_of_engagements']"
   ]
  },
  {
   "cell_type": "code",
   "execution_count": 10,
   "metadata": {},
   "outputs": [
    {
     "name": "stdout",
     "output_type": "stream",
     "text": [
      "Min number of different engagement types in a row: 0\n",
      "Max number of different engagement types in a row: 4\n",
      "Mean number of different engagement types in a row: 0.5875\n"
     ]
    },
    {
     "data": {
      "image/png": "[encoded data removed]",
      "text/plain": [
       "<Figure size 660x440 with 1 Axes>"
      ]
     },
     "metadata": {
      "needs_background": "light"
     },
     "output_type": "display_data"
    }
   ],
   "source": [
    "print(f\"Min number of different engagement types in a row: {dataframe['number_of_engagements'].min()}\")\n",
    "print(f\"Max number of different engagement types in a row: {dataframe['number_of_engagements'].max()}\")\n",
    "print(f\"Mean number of different engagement types in a row: {dataframe['number_of_engagements'].mean():.4f}\")\n",
    "\n",
    "# Plotting the result\n",
    "plt.clf()\n",
    "plt.plot(dataframe['number_of_engagements'].sort_values().values)\n",
    "plt.show()"
   ]
  },
  {
   "cell_type": "code",
   "execution_count": 11,
   "metadata": {},
   "outputs": [],
   "source": [
    "engagements_value_count = dataframe['number_of_engagements'].value_counts()"
   ]
  },
  {
   "cell_type": "code",
   "execution_count": 12,
   "metadata": {},
   "outputs": [
    {
     "name": "stdout",
     "output_type": "stream",
     "text": [
      "Rows with 0 engagements are 72,426,089 (0.4891%)\n",
      "Rows with 1 engagements are 65,052,960 (0.4393%)\n",
      "Rows with 2 engagements are 9,873,633 (0.0667%)\n",
      "Rows with 3 engagements are 695,497 (0.0047%)\n",
      "Rows with 4 engagements are 27,059 (0.0002%)\n"
     ]
    },
    {
     "data": {
      "image/png": "[encoded data removed]",
      "text/plain": [
       "<Figure size 660x440 with 1 Axes>"
      ]
     },
     "metadata": {
      "needs_background": "light"
     },
     "output_type": "display_data"
    }
   ],
   "source": [
    "for i in range(5):\n",
    "    print(f\"Rows with {i} engagements are {engagements_value_count[i]:n} ({engagements_value_count[i]/n_engagements:.4f}%)\")\n",
    "# Plotting the result\n",
    "plt.bar(engagements_value_count.index, engagements_value_count.values)\n",
    "plt.show()"
   ]
  },
  {
   "cell_type": "markdown",
   "metadata": {},
   "source": [
    "## Let's do the same thing for each language"
   ]
  },
  {
   "cell_type": "code",
   "execution_count": 13,
   "metadata": {},
   "outputs": [
    {
     "data": {
      "text/html": [
       "<div>\n",
       "<style scoped>\n",
       "    .dataframe tbody tr th:only-of-type {\n",
       "        vertical-align: middle;\n",
       "    }\n",
       "\n",
       "    .dataframe tbody tr th {\n",
       "        vertical-align: top;\n",
       "    }\n",
       "\n",
       "    .dataframe thead th {\n",
       "        text-align: right;\n",
       "    }\n",
       "</style>\n",
       "<table border=\"1\" class=\"dataframe\">\n",
       "  <thead>\n",
       "    <tr style=\"text-align: right;\">\n",
       "      <th></th>\n",
       "      <th>tweet_feature_engagement_is_like</th>\n",
       "      <th>tweet_feature_engagement_is_retweet</th>\n",
       "      <th>tweet_feature_engagement_is_reply</th>\n",
       "      <th>tweet_feature_engagement_is_comment</th>\n",
       "      <th>tweet_feature_engagement_is_positive</th>\n",
       "      <th>tweet_feature_engagement_is_negative</th>\n",
       "      <th>number_of_engagements</th>\n",
       "      <th>language</th>\n",
       "    </tr>\n",
       "  </thead>\n",
       "  <tbody>\n",
       "    <tr>\n",
       "      <th>0</th>\n",
       "      <td>False</td>\n",
       "      <td>False</td>\n",
       "      <td>False</td>\n",
       "      <td>False</td>\n",
       "      <td>False</td>\n",
       "      <td>True</td>\n",
       "      <td>0</td>\n",
       "      <td>0</td>\n",
       "    </tr>\n",
       "    <tr>\n",
       "      <th>1</th>\n",
       "      <td>False</td>\n",
       "      <td>False</td>\n",
       "      <td>False</td>\n",
       "      <td>False</td>\n",
       "      <td>False</td>\n",
       "      <td>True</td>\n",
       "      <td>0</td>\n",
       "      <td>1</td>\n",
       "    </tr>\n",
       "    <tr>\n",
       "      <th>2</th>\n",
       "      <td>True</td>\n",
       "      <td>False</td>\n",
       "      <td>False</td>\n",
       "      <td>False</td>\n",
       "      <td>True</td>\n",
       "      <td>False</td>\n",
       "      <td>1</td>\n",
       "      <td>0</td>\n",
       "    </tr>\n",
       "    <tr>\n",
       "      <th>3</th>\n",
       "      <td>False</td>\n",
       "      <td>False</td>\n",
       "      <td>False</td>\n",
       "      <td>False</td>\n",
       "      <td>False</td>\n",
       "      <td>True</td>\n",
       "      <td>0</td>\n",
       "      <td>0</td>\n",
       "    </tr>\n",
       "    <tr>\n",
       "      <th>4</th>\n",
       "      <td>False</td>\n",
       "      <td>False</td>\n",
       "      <td>False</td>\n",
       "      <td>False</td>\n",
       "      <td>False</td>\n",
       "      <td>True</td>\n",
       "      <td>0</td>\n",
       "      <td>0</td>\n",
       "    </tr>\n",
       "    <tr>\n",
       "      <th>...</th>\n",
       "      <td>...</td>\n",
       "      <td>...</td>\n",
       "      <td>...</td>\n",
       "      <td>...</td>\n",
       "      <td>...</td>\n",
       "      <td>...</td>\n",
       "      <td>...</td>\n",
       "      <td>...</td>\n",
       "    </tr>\n",
       "    <tr>\n",
       "      <th>148075233</th>\n",
       "      <td>False</td>\n",
       "      <td>False</td>\n",
       "      <td>False</td>\n",
       "      <td>False</td>\n",
       "      <td>False</td>\n",
       "      <td>True</td>\n",
       "      <td>0</td>\n",
       "      <td>3</td>\n",
       "    </tr>\n",
       "    <tr>\n",
       "      <th>148075234</th>\n",
       "      <td>False</td>\n",
       "      <td>False</td>\n",
       "      <td>False</td>\n",
       "      <td>False</td>\n",
       "      <td>False</td>\n",
       "      <td>True</td>\n",
       "      <td>0</td>\n",
       "      <td>3</td>\n",
       "    </tr>\n",
       "    <tr>\n",
       "      <th>148075235</th>\n",
       "      <td>True</td>\n",
       "      <td>True</td>\n",
       "      <td>False</td>\n",
       "      <td>False</td>\n",
       "      <td>True</td>\n",
       "      <td>False</td>\n",
       "      <td>2</td>\n",
       "      <td>3</td>\n",
       "    </tr>\n",
       "    <tr>\n",
       "      <th>148075236</th>\n",
       "      <td>True</td>\n",
       "      <td>False</td>\n",
       "      <td>False</td>\n",
       "      <td>False</td>\n",
       "      <td>True</td>\n",
       "      <td>False</td>\n",
       "      <td>1</td>\n",
       "      <td>23</td>\n",
       "    </tr>\n",
       "    <tr>\n",
       "      <th>148075237</th>\n",
       "      <td>False</td>\n",
       "      <td>False</td>\n",
       "      <td>False</td>\n",
       "      <td>False</td>\n",
       "      <td>False</td>\n",
       "      <td>True</td>\n",
       "      <td>0</td>\n",
       "      <td>3</td>\n",
       "    </tr>\n",
       "  </tbody>\n",
       "</table>\n",
       "<p>148075238 rows × 8 columns</p>\n",
       "</div>"
      ],
      "text/plain": [
       "           tweet_feature_engagement_is_like  \\\n",
       "0                                     False   \n",
       "1                                     False   \n",
       "2                                      True   \n",
       "3                                     False   \n",
       "4                                     False   \n",
       "...                                     ...   \n",
       "148075233                             False   \n",
       "148075234                             False   \n",
       "148075235                              True   \n",
       "148075236                              True   \n",
       "148075237                             False   \n",
       "\n",
       "           tweet_feature_engagement_is_retweet  \\\n",
       "0                                        False   \n",
       "1                                        False   \n",
       "2                                        False   \n",
       "3                                        False   \n",
       "4                                        False   \n",
       "...                                        ...   \n",
       "148075233                                False   \n",
       "148075234                                False   \n",
       "148075235                                 True   \n",
       "148075236                                False   \n",
       "148075237                                False   \n",
       "\n",
       "           tweet_feature_engagement_is_reply  \\\n",
       "0                                      False   \n",
       "1                                      False   \n",
       "2                                      False   \n",
       "3                                      False   \n",
       "4                                      False   \n",
       "...                                      ...   \n",
       "148075233                              False   \n",
       "148075234                              False   \n",
       "148075235                              False   \n",
       "148075236                              False   \n",
       "148075237                              False   \n",
       "\n",
       "           tweet_feature_engagement_is_comment  \\\n",
       "0                                        False   \n",
       "1                                        False   \n",
       "2                                        False   \n",
       "3                                        False   \n",
       "4                                        False   \n",
       "...                                        ...   \n",
       "148075233                                False   \n",
       "148075234                                False   \n",
       "148075235                                False   \n",
       "148075236                                False   \n",
       "148075237                                False   \n",
       "\n",
       "           tweet_feature_engagement_is_positive  \\\n",
       "0                                         False   \n",
       "1                                         False   \n",
       "2                                          True   \n",
       "3                                         False   \n",
       "4                                         False   \n",
       "...                                         ...   \n",
       "148075233                                 False   \n",
       "148075234                                 False   \n",
       "148075235                                  True   \n",
       "148075236                                  True   \n",
       "148075237                                 False   \n",
       "\n",
       "           tweet_feature_engagement_is_negative  number_of_engagements  \\\n",
       "0                                          True                      0   \n",
       "1                                          True                      0   \n",
       "2                                         False                      1   \n",
       "3                                          True                      0   \n",
       "4                                          True                      0   \n",
       "...                                         ...                    ...   \n",
       "148075233                                  True                      0   \n",
       "148075234                                  True                      0   \n",
       "148075235                                 False                      2   \n",
       "148075236                                 False                      1   \n",
       "148075237                                  True                      0   \n",
       "\n",
       "           language  \n",
       "0                 0  \n",
       "1                 1  \n",
       "2                 0  \n",
       "3                 0  \n",
       "4                 0  \n",
       "...             ...  \n",
       "148075233         3  \n",
       "148075234         3  \n",
       "148075235         3  \n",
       "148075236        23  \n",
       "148075237         3  \n",
       "\n",
       "[148075238 rows x 8 columns]"
      ]
     },
     "execution_count": 13,
     "metadata": {},
     "output_type": "execute_result"
    }
   ],
   "source": [
    "dataframe['language'] = get_feature('mapped_feature_tweet_language', dataset_id)\n",
    "dataframe"
   ]
  },
  {
   "cell_type": "code",
   "execution_count": 14,
   "metadata": {},
   "outputs": [
    {
     "data": {
      "text/plain": [
       "dict_values([0, 1, 2, 3, 4, 5, 6, 7, 8, 9, 10, 11, 12, 13, 14, 15, 16, 17, 18, 19, 20, 21, 22, 23, 24, 25, 26, 27, 28, 29, 30, 31, 32, 33, 34, 35, 36, 37, 38, 39, 40, 41, 42, 43, 44, 45, 46, 47, 48, 49, 50, 51, 52, 53, 54, 55, 56, 57, 58, 59, 60, 61, 62, 63, 64, 65])"
      ]
     },
     "execution_count": 14,
     "metadata": {},
     "output_type": "execute_result"
    }
   ],
   "source": [
    "language_dictionary = get_dictionary('mapping_language_id_direct')\n",
    "language_dictionary.values()"
   ]
  },
  {
   "cell_type": "code",
   "execution_count": 15,
   "metadata": {},
   "outputs": [],
   "source": [
    "# Declaring some auxiliary structures\n",
    "n_engagements_arr = np.empty(len(language_dictionary.values()))\n",
    "n_positive_engagements_arr = np.empty(len(language_dictionary.values()))\n",
    "n_negative_engagements_arr = np.empty(len(language_dictionary.values()))\n",
    "n_like_engagements_arr = np.empty(len(language_dictionary.values()))\n",
    "n_retweet_engagements_arr = np.empty(len(language_dictionary.values()))\n",
    "n_reply_engagements_arr = np.empty(len(language_dictionary.values()))\n",
    "n_comment_engagements_arr = np.empty(len(language_dictionary.values()))"
   ]
  },
  {
   "cell_type": "code",
   "execution_count": 16,
   "metadata": {},
   "outputs": [],
   "source": [
    "for language_id in language_dictionary.values():\n",
    "    # To short things\n",
    "    i = language_id\n",
    "    sub_dataframe = dataframe[dataframe['language'] == language_id]\n",
    "    # Printing the info computated\n",
    "    n_engagements_arr[i] = len(sub_dataframe)\n",
    "    n_positive_engagements_arr[i] = sub_dataframe['tweet_feature_engagement_is_positive'].sum()\n",
    "    n_negative_engagements_arr[i] = sub_dataframe['tweet_feature_engagement_is_negative'].sum()\n",
    "    n_like_engagements_arr[i] = sub_dataframe['tweet_feature_engagement_is_like'].sum()\n",
    "    n_retweet_engagements_arr[i] = sub_dataframe['tweet_feature_engagement_is_retweet'].sum()\n",
    "    n_reply_engagements_arr[i] = sub_dataframe['tweet_feature_engagement_is_reply'].sum()\n",
    "    n_comment_engagements_arr[i] = sub_dataframe['tweet_feature_engagement_is_comment'].sum()"
   ]
  },
  {
   "cell_type": "markdown",
   "metadata": {},
   "source": [
    "#### Language popularity (X = language_id | Y = number of rows with a tweet in that language)"
   ]
  },
  {
   "cell_type": "code",
   "execution_count": 17,
   "metadata": {},
   "outputs": [
    {
     "data": {
      "image/png": "[encoded data removed]",
      "text/plain": [
       "<Figure size 660x440 with 1 Axes>"
      ]
     },
     "metadata": {
      "needs_background": "light"
     },
     "output_type": "display_data"
    }
   ],
   "source": [
    "plt.bar(language_dictionary.values(), n_engagements_arr)\n",
    "plt.show()"
   ]
  },
  {
   "cell_type": "code",
   "execution_count": 18,
   "metadata": {},
   "outputs": [
    {
     "data": {
      "text/plain": [
       "<BarContainer object of 66 artists>"
      ]
     },
     "execution_count": 18,
     "metadata": {},
     "output_type": "execute_result"
    },
    {
     "data": {
      "image/png": "[encoded data removed]",
      "text/plain": [
       "<Figure size 660x440 with 1 Axes>"
      ]
     },
     "metadata": {
      "needs_background": "light"
     },
     "output_type": "display_data"
    }
   ],
   "source": [
    "# In logaritmic scale\n",
    "plt.yscale('log')\n",
    "plt.bar(language_dictionary.values(), n_engagements_arr)"
   ]
  },
  {
   "cell_type": "code",
   "execution_count": 19,
   "metadata": {},
   "outputs": [
    {
     "data": {
      "image/png": "[encoded data removed]",
      "text/plain": [
       "<Figure size 660x440 with 1 Axes>"
      ]
     },
     "metadata": {},
     "output_type": "display_data"
    }
   ],
   "source": [
    "plt.pie(n_engagements_arr)\n",
    "plt.show()"
   ]
  },
  {
   "cell_type": "code",
   "execution_count": 20,
   "metadata": {},
   "outputs": [
    {
     "name": "stdout",
     "output_type": "stream",
     "text": [
      "Language 0 has 23,652,265 rows\n",
      "Language 1 has 7,884,887 rows\n",
      "Language 2 has 10,280,788 rows\n",
      "Language 3 has 60,722,973 rows\n",
      "Language 4 has 13,273,364 rows\n",
      "Language 5 has 3,605,235 rows\n",
      "Language 6 has 328,193 rows\n",
      "Language 7 has 2,754,976 rows\n",
      "Language 8 has 1,368,133 rows\n",
      "Language 9 has 4,716,522 rows\n",
      "Language 10 has 5,072,653 rows\n",
      "Language 11 has 735,812 rows\n",
      "Language 12 has 3,337,790 rows\n",
      "Language 13 has 3,387,184 rows\n",
      "Language 14 has 48,997 rows\n",
      "Language 15 has 256,708 rows\n",
      "Language 16 has 235,411 rows\n",
      "Language 17 has 677,094 rows\n",
      "Language 18 has 203,131 rows\n",
      "Language 19 has 406,106 rows\n",
      "Language 20 has 1,361,237 rows\n",
      "Language 21 has 69,185 rows\n",
      "Language 22 has 105,288 rows\n",
      "Language 23 has 375,828 rows\n",
      "Language 24 has 792,721 rows\n",
      "Language 25 has 770,466 rows\n",
      "Language 26 has 4,666 rows\n",
      "Language 27 has 46,439 rows\n",
      "Language 28 has 38,257 rows\n",
      "Language 29 has 117,667 rows\n",
      "Language 30 has 41,328 rows\n",
      "Language 31 has 61,251 rows\n",
      "Language 32 has 40,079 rows\n",
      "Language 33 has 92,395 rows\n",
      "Language 34 has 358,253 rows\n",
      "Language 35 has 162,727 rows\n",
      "Language 36 has 23,053 rows\n",
      "Language 37 has 51,448 rows\n",
      "Language 38 has 136,798 rows\n",
      "Language 39 has 106,515 rows\n",
      "Language 40 has 25,717 rows\n",
      "Language 41 has 17,973 rows\n",
      "Language 42 has 27,303 rows\n",
      "Language 43 has 30,223 rows\n",
      "Language 44 has 8,034 rows\n",
      "Language 45 has 18,718 rows\n",
      "Language 46 has 54,339 rows\n",
      "Language 47 has 21,995 rows\n",
      "Language 48 has 14,948 rows\n",
      "Language 49 has 995 rows\n",
      "Language 50 has 27,359 rows\n",
      "Language 51 has 6,239 rows\n",
      "Language 52 has 45,614 rows\n",
      "Language 53 has 42,856 rows\n",
      "Language 54 has 8,805 rows\n",
      "Language 55 has 8,351 rows\n",
      "Language 56 has 3,666 rows\n",
      "Language 57 has 1,949 rows\n",
      "Language 58 has 590 rows\n",
      "Language 59 has 1,379 rows\n",
      "Language 60 has 1,270 rows\n",
      "Language 61 has 1,963 rows\n",
      "Language 62 has 363 rows\n",
      "Language 63 has 614 rows\n",
      "Language 64 has 138 rows\n",
      "Language 65 has 14 rows\n"
     ]
    }
   ],
   "source": [
    "for i, count in enumerate(n_engagements_arr):\n",
    "    print(f\"Language {i} has {int(count):n} rows\")"
   ]
  },
  {
   "cell_type": "markdown",
   "metadata": {},
   "source": [
    "## Percentage of engagement type for each language (red line is the percentage computed using all languages)"
   ]
  },
  {
   "cell_type": "code",
   "execution_count": 21,
   "metadata": {},
   "outputs": [
    {
     "name": "stdout",
     "output_type": "stream",
     "text": [
      "POSITIVE\n"
     ]
    },
    {
     "data": {
      "image/png": "[encoded data removed]",
      "text/plain": [
       "<Figure size 660x440 with 1 Axes>"
      ]
     },
     "metadata": {
      "needs_background": "light"
     },
     "output_type": "display_data"
    }
   ],
   "source": [
    "# Positive\n",
    "print(\"POSITIVE\")\n",
    "percentage = n_positive_engagements_arr / n_engagements_arr\n",
    "plt.bar(language_dictionary.values(), percentage)\n",
    "plt.axhline(n_positive_engagements/n_engagements, color=\"red\")\n",
    "plt.show()"
   ]
  },
  {
   "cell_type": "code",
   "execution_count": 22,
   "metadata": {},
   "outputs": [
    {
     "name": "stdout",
     "output_type": "stream",
     "text": [
      "NEGATIVE\n"
     ]
    },
    {
     "data": {
      "image/png": "[encoded data removed]",
      "text/plain": [
       "<Figure size 660x440 with 1 Axes>"
      ]
     },
     "metadata": {
      "needs_background": "light"
     },
     "output_type": "display_data"
    }
   ],
   "source": [
    "# Negative\n",
    "print(\"NEGATIVE\")\n",
    "percentage = n_negative_engagements_arr / n_engagements_arr\n",
    "plt.bar(language_dictionary.values(), percentage)\n",
    "plt.axhline(n_negative_engagements/n_engagements, color=\"red\")\n",
    "plt.show()"
   ]
  },
  {
   "cell_type": "code",
   "execution_count": 23,
   "metadata": {},
   "outputs": [
    {
     "name": "stdout",
     "output_type": "stream",
     "text": [
      "LIKE\n"
     ]
    },
    {
     "data": {
      "image/png": "[encoded data removed]",
      "text/plain": [
       "<Figure size 660x440 with 1 Axes>"
      ]
     },
     "metadata": {
      "needs_background": "light"
     },
     "output_type": "display_data"
    }
   ],
   "source": [
    "# Like\n",
    "print(\"LIKE\")\n",
    "percentage = n_like_engagements_arr / n_engagements_arr\n",
    "plt.bar(language_dictionary.values(), percentage)\n",
    "plt.axhline(n_like_engagements/n_engagements, color=\"red\")\n",
    "plt.show()"
   ]
  },
  {
   "cell_type": "code",
   "execution_count": 24,
   "metadata": {},
   "outputs": [
    {
     "name": "stdout",
     "output_type": "stream",
     "text": [
      "RETWEET\n"
     ]
    },
    {
     "data": {
      "image/png": "[encoded data removed]",
      "text/plain": [
       "<Figure size 660x440 with 1 Axes>"
      ]
     },
     "metadata": {
      "needs_background": "light"
     },
     "output_type": "display_data"
    }
   ],
   "source": [
    "# Retweet\n",
    "print(\"RETWEET\")\n",
    "percentage = n_retweet_engagements_arr / n_engagements_arr\n",
    "plt.bar(language_dictionary.values(), percentage)\n",
    "plt.axhline(n_retweet_engagements/n_engagements, color=\"red\")\n",
    "plt.show()"
   ]
  },
  {
   "cell_type": "code",
   "execution_count": 25,
   "metadata": {},
   "outputs": [
    {
     "name": "stdout",
     "output_type": "stream",
     "text": [
      "REPLY\n"
     ]
    },
    {
     "data": {
      "image/png": "[encoded data removed]",
      "text/plain": [
       "<Figure size 660x440 with 1 Axes>"
      ]
     },
     "metadata": {
      "needs_background": "light"
     },
     "output_type": "display_data"
    }
   ],
   "source": [
    "# Reply\n",
    "print(\"REPLY\")\n",
    "percentage = n_reply_engagements_arr / n_engagements_arr\n",
    "plt.bar(language_dictionary.values(), percentage)\n",
    "plt.axhline(n_reply_engagements/n_engagements, color=\"red\")\n",
    "plt.show()"
   ]
  },
  {
   "cell_type": "code",
   "execution_count": 26,
   "metadata": {},
   "outputs": [
    {
     "name": "stdout",
     "output_type": "stream",
     "text": [
      "COMMENT\n"
     ]
    },
    {
     "data": {
      "image/png": "[encoded data removed]",
      "text/plain": [
       "<Figure size 660x440 with 1 Axes>"
      ]
     },
     "metadata": {
      "needs_background": "light"
     },
     "output_type": "display_data"
    }
   ],
   "source": [
    "# Comment\n",
    "print(\"COMMENT\")\n",
    "percentage = n_comment_engagements_arr / n_engagements_arr\n",
    "plt.bar(language_dictionary.values(), percentage)\n",
    "plt.axhline(n_comment_engagements/n_engagements, color=\"red\")\n",
    "plt.show()"
   ]
  },
  {
   "cell_type": "markdown",
   "metadata": {},
   "source": [
    "## Let's do the same thing for each the tweet type"
   ]
  },
  {
   "cell_type": "code",
   "execution_count": 27,
   "metadata": {},
   "outputs": [
    {
     "data": {
      "text/html": [
       "<div>\n",
       "<style scoped>\n",
       "    .dataframe tbody tr th:only-of-type {\n",
       "        vertical-align: middle;\n",
       "    }\n",
       "\n",
       "    .dataframe tbody tr th {\n",
       "        vertical-align: top;\n",
       "    }\n",
       "\n",
       "    .dataframe thead th {\n",
       "        text-align: right;\n",
       "    }\n",
       "</style>\n",
       "<table border=\"1\" class=\"dataframe\">\n",
       "  <thead>\n",
       "    <tr style=\"text-align: right;\">\n",
       "      <th></th>\n",
       "      <th>tweet_feature_engagement_is_like</th>\n",
       "      <th>tweet_feature_engagement_is_retweet</th>\n",
       "      <th>tweet_feature_engagement_is_reply</th>\n",
       "      <th>tweet_feature_engagement_is_comment</th>\n",
       "      <th>tweet_feature_engagement_is_positive</th>\n",
       "      <th>tweet_feature_engagement_is_negative</th>\n",
       "      <th>number_of_engagements</th>\n",
       "      <th>language</th>\n",
       "      <th>tweet_type</th>\n",
       "    </tr>\n",
       "  </thead>\n",
       "  <tbody>\n",
       "    <tr>\n",
       "      <th>0</th>\n",
       "      <td>False</td>\n",
       "      <td>False</td>\n",
       "      <td>False</td>\n",
       "      <td>False</td>\n",
       "      <td>False</td>\n",
       "      <td>True</td>\n",
       "      <td>0</td>\n",
       "      <td>0</td>\n",
       "      <td>0</td>\n",
       "    </tr>\n",
       "    <tr>\n",
       "      <th>1</th>\n",
       "      <td>False</td>\n",
       "      <td>False</td>\n",
       "      <td>False</td>\n",
       "      <td>False</td>\n",
       "      <td>False</td>\n",
       "      <td>True</td>\n",
       "      <td>0</td>\n",
       "      <td>1</td>\n",
       "      <td>0</td>\n",
       "    </tr>\n",
       "    <tr>\n",
       "      <th>2</th>\n",
       "      <td>True</td>\n",
       "      <td>False</td>\n",
       "      <td>False</td>\n",
       "      <td>False</td>\n",
       "      <td>True</td>\n",
       "      <td>False</td>\n",
       "      <td>1</td>\n",
       "      <td>0</td>\n",
       "      <td>0</td>\n",
       "    </tr>\n",
       "    <tr>\n",
       "      <th>3</th>\n",
       "      <td>False</td>\n",
       "      <td>False</td>\n",
       "      <td>False</td>\n",
       "      <td>False</td>\n",
       "      <td>False</td>\n",
       "      <td>True</td>\n",
       "      <td>0</td>\n",
       "      <td>0</td>\n",
       "      <td>0</td>\n",
       "    </tr>\n",
       "    <tr>\n",
       "      <th>4</th>\n",
       "      <td>False</td>\n",
       "      <td>False</td>\n",
       "      <td>False</td>\n",
       "      <td>False</td>\n",
       "      <td>False</td>\n",
       "      <td>True</td>\n",
       "      <td>0</td>\n",
       "      <td>0</td>\n",
       "      <td>0</td>\n",
       "    </tr>\n",
       "    <tr>\n",
       "      <th>...</th>\n",
       "      <td>...</td>\n",
       "      <td>...</td>\n",
       "      <td>...</td>\n",
       "      <td>...</td>\n",
       "      <td>...</td>\n",
       "      <td>...</td>\n",
       "      <td>...</td>\n",
       "      <td>...</td>\n",
       "      <td>...</td>\n",
       "    </tr>\n",
       "    <tr>\n",
       "      <th>148075233</th>\n",
       "      <td>False</td>\n",
       "      <td>False</td>\n",
       "      <td>False</td>\n",
       "      <td>False</td>\n",
       "      <td>False</td>\n",
       "      <td>True</td>\n",
       "      <td>0</td>\n",
       "      <td>3</td>\n",
       "      <td>2</td>\n",
       "    </tr>\n",
       "    <tr>\n",
       "      <th>148075234</th>\n",
       "      <td>False</td>\n",
       "      <td>False</td>\n",
       "      <td>False</td>\n",
       "      <td>False</td>\n",
       "      <td>False</td>\n",
       "      <td>True</td>\n",
       "      <td>0</td>\n",
       "      <td>3</td>\n",
       "      <td>2</td>\n",
       "    </tr>\n",
       "    <tr>\n",
       "      <th>148075235</th>\n",
       "      <td>True</td>\n",
       "      <td>True</td>\n",
       "      <td>False</td>\n",
       "      <td>False</td>\n",
       "      <td>True</td>\n",
       "      <td>False</td>\n",
       "      <td>2</td>\n",
       "      <td>3</td>\n",
       "      <td>0</td>\n",
       "    </tr>\n",
       "    <tr>\n",
       "      <th>148075236</th>\n",
       "      <td>True</td>\n",
       "      <td>False</td>\n",
       "      <td>False</td>\n",
       "      <td>False</td>\n",
       "      <td>True</td>\n",
       "      <td>False</td>\n",
       "      <td>1</td>\n",
       "      <td>23</td>\n",
       "      <td>0</td>\n",
       "    </tr>\n",
       "    <tr>\n",
       "      <th>148075237</th>\n",
       "      <td>False</td>\n",
       "      <td>False</td>\n",
       "      <td>False</td>\n",
       "      <td>False</td>\n",
       "      <td>False</td>\n",
       "      <td>True</td>\n",
       "      <td>0</td>\n",
       "      <td>3</td>\n",
       "      <td>3</td>\n",
       "    </tr>\n",
       "  </tbody>\n",
       "</table>\n",
       "<p>148075238 rows × 9 columns</p>\n",
       "</div>"
      ],
      "text/plain": [
       "           tweet_feature_engagement_is_like  \\\n",
       "0                                     False   \n",
       "1                                     False   \n",
       "2                                      True   \n",
       "3                                     False   \n",
       "4                                     False   \n",
       "...                                     ...   \n",
       "148075233                             False   \n",
       "148075234                             False   \n",
       "148075235                              True   \n",
       "148075236                              True   \n",
       "148075237                             False   \n",
       "\n",
       "           tweet_feature_engagement_is_retweet  \\\n",
       "0                                        False   \n",
       "1                                        False   \n",
       "2                                        False   \n",
       "3                                        False   \n",
       "4                                        False   \n",
       "...                                        ...   \n",
       "148075233                                False   \n",
       "148075234                                False   \n",
       "148075235                                 True   \n",
       "148075236                                False   \n",
       "148075237                                False   \n",
       "\n",
       "           tweet_feature_engagement_is_reply  \\\n",
       "0                                      False   \n",
       "1                                      False   \n",
       "2                                      False   \n",
       "3                                      False   \n",
       "4                                      False   \n",
       "...                                      ...   \n",
       "148075233                              False   \n",
       "148075234                              False   \n",
       "148075235                              False   \n",
       "148075236                              False   \n",
       "148075237                              False   \n",
       "\n",
       "           tweet_feature_engagement_is_comment  \\\n",
       "0                                        False   \n",
       "1                                        False   \n",
       "2                                        False   \n",
       "3                                        False   \n",
       "4                                        False   \n",
       "...                                        ...   \n",
       "148075233                                False   \n",
       "148075234                                False   \n",
       "148075235                                False   \n",
       "148075236                                False   \n",
       "148075237                                False   \n",
       "\n",
       "           tweet_feature_engagement_is_positive  \\\n",
       "0                                         False   \n",
       "1                                         False   \n",
       "2                                          True   \n",
       "3                                         False   \n",
       "4                                         False   \n",
       "...                                         ...   \n",
       "148075233                                 False   \n",
       "148075234                                 False   \n",
       "148075235                                  True   \n",
       "148075236                                  True   \n",
       "148075237                                 False   \n",
       "\n",
       "           tweet_feature_engagement_is_negative  number_of_engagements  \\\n",
       "0                                          True                      0   \n",
       "1                                          True                      0   \n",
       "2                                         False                      1   \n",
       "3                                          True                      0   \n",
       "4                                          True                      0   \n",
       "...                                         ...                    ...   \n",
       "148075233                                  True                      0   \n",
       "148075234                                  True                      0   \n",
       "148075235                                 False                      2   \n",
       "148075236                                 False                      1   \n",
       "148075237                                  True                      0   \n",
       "\n",
       "           language  tweet_type  \n",
       "0                 0           0  \n",
       "1                 1           0  \n",
       "2                 0           0  \n",
       "3                 0           0  \n",
       "4                 0           0  \n",
       "...             ...         ...  \n",
       "148075233         3           2  \n",
       "148075234         3           2  \n",
       "148075235         3           0  \n",
       "148075236        23           0  \n",
       "148075237         3           3  \n",
       "\n",
       "[148075238 rows x 9 columns]"
      ]
     },
     "execution_count": 27,
     "metadata": {},
     "output_type": "execute_result"
    }
   ],
   "source": [
    "# I included Reply because it's listed on https://recsys-twitter.com/\n",
    "t_types = ['TopLevel', 'Reply', 'Retweet', 'Quote']\n",
    "t_types_dict = {'TopLevel': 0, 'Reply': 1, 'Retweet': 2, 'Quote':3}\n",
    "dataframe['tweet_type'] = get_feature('raw_feature_tweet_type', dataset_id).replace(t_types_dict)\n",
    "dataframe"
   ]
  },
  {
   "cell_type": "code",
   "execution_count": 28,
   "metadata": {},
   "outputs": [],
   "source": [
    "# Declaring some auxiliary structures\n",
    "n_engagements_arr = np.empty(len(t_types))\n",
    "n_positive_engagements_arr = np.empty(len(t_types))\n",
    "n_negative_engagements_arr = np.empty(len(t_types))\n",
    "n_like_engagements_arr = np.empty(len(t_types))\n",
    "n_retweet_engagements_arr = np.empty(len(t_types))\n",
    "n_reply_engagements_arr = np.empty(len(t_types))\n",
    "n_comment_engagements_arr = np.empty(len(t_types))"
   ]
  },
  {
   "cell_type": "code",
   "execution_count": 29,
   "metadata": {},
   "outputs": [],
   "source": [
    "\n",
    "for i in t_types_dict.values():\n",
    "    sub_dataframe = dataframe[dataframe['tweet_type'] == i]\n",
    "    # Printing the info computated\n",
    "    n_engagements_arr[i] = len(sub_dataframe)\n",
    "    n_positive_engagements_arr[i] = sub_dataframe['tweet_feature_engagement_is_positive'].sum()\n",
    "    n_negative_engagements_arr[i] = sub_dataframe['tweet_feature_engagement_is_negative'].sum()\n",
    "    n_like_engagements_arr[i] = sub_dataframe['tweet_feature_engagement_is_like'].sum()\n",
    "    n_retweet_engagements_arr[i] = sub_dataframe['tweet_feature_engagement_is_retweet'].sum()\n",
    "    n_reply_engagements_arr[i] = sub_dataframe['tweet_feature_engagement_is_reply'].sum()\n",
    "    n_comment_engagements_arr[i] = sub_dataframe['tweet_feature_engagement_is_comment'].sum()"
   ]
  },
  {
   "cell_type": "code",
   "execution_count": 30,
   "metadata": {},
   "outputs": [
    {
     "data": {
      "image/png": "[encoded data removed]",
      "text/plain": [
       "<Figure size 660x440 with 1 Axes>"
      ]
     },
     "metadata": {
      "needs_background": "light"
     },
     "output_type": "display_data"
    }
   ],
   "source": [
    "plt.bar(t_types, n_engagements_arr)\n",
    "plt.show()"
   ]
  },
  {
   "cell_type": "code",
   "execution_count": 31,
   "metadata": {},
   "outputs": [
    {
     "name": "stdout",
     "output_type": "stream",
     "text": [
      "POSITIVE\n"
     ]
    },
    {
     "name": "stderr",
     "output_type": "stream",
     "text": [
      "/opt/conda/lib/python3.7/site-packages/ipykernel_launcher.py:3: RuntimeWarning: invalid value encountered in true_divide\n",
      "  This is separate from the ipykernel package so we can avoid doing imports until\n"
     ]
    },
    {
     "data": {
      "image/png": "[encoded data removed]",
      "text/plain": [
       "<Figure size 660x440 with 1 Axes>"
      ]
     },
     "metadata": {
      "needs_background": "light"
     },
     "output_type": "display_data"
    }
   ],
   "source": [
    "# Positive\n",
    "print(\"POSITIVE\")\n",
    "percentage = n_positive_engagements_arr / n_engagements_arr\n",
    "plt.bar(t_types, percentage)\n",
    "plt.axhline(n_positive_engagements/n_engagements, color=\"red\")\n",
    "plt.show()"
   ]
  },
  {
   "cell_type": "code",
   "execution_count": 32,
   "metadata": {},
   "outputs": [
    {
     "name": "stdout",
     "output_type": "stream",
     "text": [
      "NEGATIVE\n"
     ]
    },
    {
     "name": "stderr",
     "output_type": "stream",
     "text": [
      "/opt/conda/lib/python3.7/site-packages/ipykernel_launcher.py:3: RuntimeWarning: invalid value encountered in true_divide\n",
      "  This is separate from the ipykernel package so we can avoid doing imports until\n"
     ]
    },
    {
     "data": {
      "image/png": "[encoded data removed]",
      "text/plain": [
       "<Figure size 660x440 with 1 Axes>"
      ]
     },
     "metadata": {
      "needs_background": "light"
     },
     "output_type": "display_data"
    }
   ],
   "source": [
    "# Negative\n",
    "print(\"NEGATIVE\")\n",
    "percentage = n_negative_engagements_arr / n_engagements_arr\n",
    "plt.bar(t_types, percentage)\n",
    "plt.axhline(n_negative_engagements/n_engagements, color=\"red\")\n",
    "plt.show()"
   ]
  },
  {
   "cell_type": "code",
   "execution_count": 33,
   "metadata": {},
   "outputs": [
    {
     "name": "stdout",
     "output_type": "stream",
     "text": [
      "LIKE\n"
     ]
    },
    {
     "name": "stderr",
     "output_type": "stream",
     "text": [
      "/opt/conda/lib/python3.7/site-packages/ipykernel_launcher.py:3: RuntimeWarning: invalid value encountered in true_divide\n",
      "  This is separate from the ipykernel package so we can avoid doing imports until\n"
     ]
    },
    {
     "data": {
      "image/png": "[encoded data removed]",
      "text/plain": [
       "<Figure size 660x440 with 1 Axes>"
      ]
     },
     "metadata": {
      "needs_background": "light"
     },
     "output_type": "display_data"
    }
   ],
   "source": [
    "# Like\n",
    "print(\"LIKE\")\n",
    "percentage = n_like_engagements_arr / n_engagements_arr\n",
    "plt.bar(t_types, percentage)\n",
    "plt.axhline(n_like_engagements/n_engagements, color=\"red\")\n",
    "plt.show()"
   ]
  },
  {
   "cell_type": "code",
   "execution_count": 34,
   "metadata": {},
   "outputs": [
    {
     "name": "stdout",
     "output_type": "stream",
     "text": [
      "RETWEET\n"
     ]
    },
    {
     "name": "stderr",
     "output_type": "stream",
     "text": [
      "/opt/conda/lib/python3.7/site-packages/ipykernel_launcher.py:3: RuntimeWarning: invalid value encountered in true_divide\n",
      "  This is separate from the ipykernel package so we can avoid doing imports until\n"
     ]
    },
    {
     "data": {
      "image/png": "[encoded data removed]",
      "text/plain": [
       "<Figure size 660x440 with 1 Axes>"
      ]
     },
     "metadata": {
      "needs_background": "light"
     },
     "output_type": "display_data"
    }
   ],
   "source": [
    "# Retweet\n",
    "print(\"RETWEET\")\n",
    "percentage = n_retweet_engagements_arr / n_engagements_arr\n",
    "plt.bar(t_types, percentage)\n",
    "plt.axhline(n_retweet_engagements/n_engagements, color=\"red\")\n",
    "plt.show()"
   ]
  },
  {
   "cell_type": "code",
   "execution_count": 35,
   "metadata": {},
   "outputs": [
    {
     "name": "stdout",
     "output_type": "stream",
     "text": [
      "REPLY\n"
     ]
    },
    {
     "name": "stderr",
     "output_type": "stream",
     "text": [
      "/opt/conda/lib/python3.7/site-packages/ipykernel_launcher.py:3: RuntimeWarning: invalid value encountered in true_divide\n",
      "  This is separate from the ipykernel package so we can avoid doing imports until\n"
     ]
    },
    {
     "data": {
      "image/png": "[encoded data removed]",
      "text/plain": [
       "<Figure size 660x440 with 1 Axes>"
      ]
     },
     "metadata": {
      "needs_background": "light"
     },
     "output_type": "display_data"
    }
   ],
   "source": [
    "# Reply\n",
    "print(\"REPLY\")\n",
    "percentage = n_reply_engagements_arr / n_engagements_arr\n",
    "plt.bar(t_types, percentage)\n",
    "plt.axhline(n_reply_engagements/n_engagements, color=\"red\")\n",
    "plt.show()"
   ]
  },
  {
   "cell_type": "code",
   "execution_count": 36,
   "metadata": {},
   "outputs": [
    {
     "name": "stdout",
     "output_type": "stream",
     "text": [
      "COMMENT\n"
     ]
    },
    {
     "name": "stderr",
     "output_type": "stream",
     "text": [
      "/opt/conda/lib/python3.7/site-packages/ipykernel_launcher.py:3: RuntimeWarning: invalid value encountered in true_divide\n",
      "  This is separate from the ipykernel package so we can avoid doing imports until\n"
     ]
    },
    {
     "data": {
      "image/png": "[encoded data removed]",
      "text/plain": [
       "<Figure size 660x440 with 1 Axes>"
      ]
     },
     "metadata": {
      "needs_background": "light"
     },
     "output_type": "display_data"
    }
   ],
   "source": [
    "# Comment\n",
    "print(\"COMMENT\")\n",
    "percentage = n_comment_engagements_arr / n_engagements_arr\n",
    "plt.bar(t_types, percentage)\n",
    "plt.axhline(n_comment_engagements/n_engagements, color=\"red\")\n",
    "plt.show()"
   ]
  },
  {
   "cell_type": "code",
   "execution_count": null,
   "metadata": {},
   "outputs": [],
   "source": []
  }
 ],
 "metadata": {
  "kernelspec": {
   "display_name": "Python 3",
   "language": "python",
   "name": "python3"
  },
  "language_info": {
   "codemirror_mode": {
    "name": "ipython",
    "version": 3
   },
   "file_extension": ".py",
   "mimetype": "text/x-python",
   "name": "python",
   "nbconvert_exporter": "python",
   "pygments_lexer": "ipython3",
   "version": "3.7.6"
  }
 },
 "nbformat": 4,
 "nbformat_minor": 4
}
