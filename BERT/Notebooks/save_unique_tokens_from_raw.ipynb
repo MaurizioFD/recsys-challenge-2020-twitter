{
 "cells": [
  {
   "cell_type": "code",
   "execution_count": 709,
   "metadata": {},
   "outputs": [],
   "source": [
    "#import pandas as pd\n",
    "import numpy as np\n",
    "import time\n",
    "import gzip"
   ]
  },
  {
   "cell_type": "markdown",
   "metadata": {},
   "source": [
    "### Constants"
   ]
  },
  {
   "cell_type": "code",
   "execution_count": 816,
   "metadata": {},
   "outputs": [],
   "source": [
    "RESULT_PATH = \"tweet_tokens/text_tokens_unique.csv\"\n",
    "N_ROWS = 100"
   ]
  },
  {
   "cell_type": "markdown",
   "metadata": {},
   "source": [
    "### Read tweet_text_tokens and remove duplicates and pad all the tweets to match with length = max_length and save them"
   ]
  },
  {
   "cell_type": "code",
   "execution_count": 817,
   "metadata": {},
   "outputs": [],
   "source": [
    "TWEET_ID = \"tweet_features_tweet_id\"\n",
    "TWEET_TOKENS = \"tweet_features_text_tokens\"\n",
    "\n",
    "TWEET_ID_FILE = \"../mapped_columns/direct_mapping/tweet_features_tweet_id.csv.gz\"\n",
    "TWEET_TOKENS_FILE = \"../raw_columns/tweet_features_text_tokens.csv.gz\"\n",
    "\n",
    "#MAX_TWEET_ID = 73549798\n",
    "\n",
    "tweet_id_dictionary = {}"
   ]
  },
  {
   "cell_type": "code",
   "execution_count": 818,
   "metadata": {},
   "outputs": [],
   "source": [
    "result_file = open(RESULT_PATH, \"w+\")"
   ]
  },
  {
   "cell_type": "code",
   "execution_count": 819,
   "metadata": {},
   "outputs": [],
   "source": [
    "def save(identifier, tokens):\n",
    "    result_file.write(str(identifier) + ',' + tokens + '\\n')"
   ]
  },
  {
   "cell_type": "markdown",
   "metadata": {},
   "source": [
    "### Write the header (columns names)"
   ]
  },
  {
   "cell_type": "code",
   "execution_count": 820,
   "metadata": {},
   "outputs": [],
   "source": [
    "save(TWEET_ID, TWEET_TOKENS)"
   ]
  },
  {
   "cell_type": "markdown",
   "metadata": {},
   "source": [
    "### Open files to be read and save tweet tokens by skipping duplicates"
   ]
  },
  {
   "cell_type": "code",
   "execution_count": 821,
   "metadata": {},
   "outputs": [],
   "source": [
    "id_file = gzip.open(TWEET_ID_FILE, \"rb\")\n",
    "tokens_file = gzip.open(TWEET_TOKENS_FILE, \"rb\")"
   ]
  },
  {
   "cell_type": "code",
   "execution_count": 822,
   "metadata": {},
   "outputs": [
    {
     "name": "stdout",
     "output_type": "stream",
     "text": [
      "CPU times: user 20.6 s, sys: 700 ms, total: 21.3 s\n",
      "Wall time: 21.3 s\n"
     ]
    }
   ],
   "source": [
    "%%time\n",
    "\n",
    "# ~ 20 seconds for 1 million rows\n",
    "# ~ 40 minutes for the whole training dataset\n",
    "\n",
    "# ignore header\n",
    "id_file.readline()\n",
    "tokens_file.readline()\n",
    "\n",
    "finished = False\n",
    "i = 0\n",
    "\n",
    "while not finished and i < N_ROWS:\n",
    "\n",
    "    #print(i)\n",
    "\n",
    "    id_line = str(id_file.readline())\n",
    "    \n",
    "    if id_line != '':\n",
    "        id_line = id_line.replace('b','').replace(\"'\",'').split(',')\n",
    "\n",
    "        tokens_line = str(tokens_file.readline()).replace('b','').replace(\"'\",'').split(',')\n",
    "        \n",
    "        tokens_line[1] = tokens_line[1].replace(\"\\\\t\", \"\\t\").replace(\"\\\\n\",'')  # tokens_line[1] is the tokens string\n",
    "\n",
    "        identifier = id_line[1].replace(\"\\\\n\", '')  # id_line[1] contains the tweet id\n",
    "\n",
    "        if identifier not in tweet_id_dictionary:\n",
    "            tweet_id_dictionary[identifier] = 1\n",
    "            tokens = tokens_line[1]\n",
    "            save(identifier, tokens)\n",
    "\n",
    "        if identifier == MAX_TWEET_ID:\n",
    "            finished = True\n",
    "    else:\n",
    "        finished = True\n",
    "\n",
    "    i += 1"
   ]
  },
  {
   "cell_type": "code",
   "execution_count": 808,
   "metadata": {},
   "outputs": [],
   "source": [
    "id_file.close()\n",
    "tokens_file.close()\n",
    "\n",
    "result_file.close()"
   ]
  },
  {
   "cell_type": "markdown",
   "metadata": {},
   "source": [
    "### Check the dataset"
   ]
  },
  {
   "cell_type": "code",
   "execution_count": 629,
   "metadata": {},
   "outputs": [
    {
     "data": {
      "text/plain": [
       "73549799"
      ]
     },
     "execution_count": 629,
     "metadata": {},
     "output_type": "execute_result"
    }
   ],
   "source": [
    "len(tweet_id_dictionary)"
   ]
  },
  {
   "cell_type": "code",
   "execution_count": 633,
   "metadata": {},
   "outputs": [
    {
     "name": "stdout",
     "output_type": "stream",
     "text": [
      "CPU times: user 4min 36s, sys: 21.5 s, total: 4min 57s\n",
      "Wall time: 4min 57s\n"
     ]
    }
   ],
   "source": [
    "%%time\n",
    "\n",
    "df = pd.read_csv(RESULT_PATH,\n",
    "                    names=[TWEET_ID],\n",
    "                    #compression='gzip',\n",
    "                    #nrows=N_ROWS,\n",
    "                    header=0,\n",
    "                    index_col=0)"
   ]
  },
  {
   "cell_type": "code",
   "execution_count": 635,
   "metadata": {},
   "outputs": [
    {
     "data": {
      "text/html": [
       "<div>\n",
       "<style scoped>\n",
       "    .dataframe tbody tr th:only-of-type {\n",
       "        vertical-align: middle;\n",
       "    }\n",
       "\n",
       "    .dataframe tbody tr th {\n",
       "        vertical-align: top;\n",
       "    }\n",
       "\n",
       "    .dataframe thead th {\n",
       "        text-align: right;\n",
       "    }\n",
       "</style>\n",
       "<table border=\"1\" class=\"dataframe\">\n",
       "  <thead>\n",
       "    <tr style=\"text-align: right;\">\n",
       "      <th></th>\n",
       "      <th>tweet_features_tweet_id</th>\n",
       "    </tr>\n",
       "  </thead>\n",
       "  <tbody>\n",
       "    <tr>\n",
       "      <th>0</th>\n",
       "      <td>101\\t6417\\t3410\\t3398\\t3184\\t1909\\t56910\\t1683...</td>\n",
       "    </tr>\n",
       "    <tr>\n",
       "      <th>1</th>\n",
       "      <td>101\\t14120\\t131\\t120\\t120\\t188\\t119\\t11170\\t12...</td>\n",
       "    </tr>\n",
       "    <tr>\n",
       "      <th>2</th>\n",
       "      <td>101\\t62342\\t10858\\t54439\\t19571\\t22480\\t7831\\t...</td>\n",
       "    </tr>\n",
       "    <tr>\n",
       "      <th>3</th>\n",
       "      <td>101\\t58955\\t10898\\t103305\\t1901\\t16181\\t7168\\t...</td>\n",
       "    </tr>\n",
       "    <tr>\n",
       "      <th>4</th>\n",
       "      <td>101\\t2435\\t5656\\t2594\\t8279\\t8623\\t1925\\t64126...</td>\n",
       "    </tr>\n",
       "    <tr>\n",
       "      <th>...</th>\n",
       "      <td>...</td>\n",
       "    </tr>\n",
       "    <tr>\n",
       "      <th>73549794</th>\n",
       "      <td>101\\t1963\\t60907\\t12236\\t3653\\t3116\\t1943\\t827...</td>\n",
       "    </tr>\n",
       "    <tr>\n",
       "      <th>73549795</th>\n",
       "      <td>101\\t1910\\t11588\\t37311\\t89744\\t111791\\t15221\\...</td>\n",
       "    </tr>\n",
       "    <tr>\n",
       "      <th>73549796</th>\n",
       "      <td>101\\t56898\\t137\\t10950\\t39736\\t71793\\t11211\\t1...</td>\n",
       "    </tr>\n",
       "    <tr>\n",
       "      <th>73549797</th>\n",
       "      <td>101\\t56898\\t137\\t10474\\t11274\\t15709\\t10253\\t2...</td>\n",
       "    </tr>\n",
       "    <tr>\n",
       "      <th>73549798</th>\n",
       "      <td>101\\t58573\\t36382\\t14703\\t10124\\t10105\\t12469\\...</td>\n",
       "    </tr>\n",
       "  </tbody>\n",
       "</table>\n",
       "<p>73549799 rows × 1 columns</p>\n",
       "</div>"
      ],
      "text/plain": [
       "                                    tweet_features_tweet_id\n",
       "0         101\\t6417\\t3410\\t3398\\t3184\\t1909\\t56910\\t1683...\n",
       "1         101\\t14120\\t131\\t120\\t120\\t188\\t119\\t11170\\t12...\n",
       "2         101\\t62342\\t10858\\t54439\\t19571\\t22480\\t7831\\t...\n",
       "3         101\\t58955\\t10898\\t103305\\t1901\\t16181\\t7168\\t...\n",
       "4         101\\t2435\\t5656\\t2594\\t8279\\t8623\\t1925\\t64126...\n",
       "...                                                     ...\n",
       "73549794  101\\t1963\\t60907\\t12236\\t3653\\t3116\\t1943\\t827...\n",
       "73549795  101\\t1910\\t11588\\t37311\\t89744\\t111791\\t15221\\...\n",
       "73549796  101\\t56898\\t137\\t10950\\t39736\\t71793\\t11211\\t1...\n",
       "73549797  101\\t56898\\t137\\t10474\\t11274\\t15709\\t10253\\t2...\n",
       "73549798  101\\t58573\\t36382\\t14703\\t10124\\t10105\\t12469\\...\n",
       "\n",
       "[73549799 rows x 1 columns]"
      ]
     },
     "execution_count": 635,
     "metadata": {},
     "output_type": "execute_result"
    }
   ],
   "source": [
    "df"
   ]
  },
  {
   "cell_type": "code",
   "execution_count": 470,
   "metadata": {},
   "outputs": [],
   "source": [
    "df = pd.read_csv(TWEET_ID_FILE,\n",
    "                    names=[TWEET_ID],\n",
    "                    compression='gzip',\n",
    "                    #nrows=N_ROWS,\n",
    "                    header=0,\n",
    "                    index_col=0)"
   ]
  },
  {
   "cell_type": "code",
   "execution_count": 471,
   "metadata": {},
   "outputs": [
    {
     "data": {
      "text/plain": [
       "904761"
      ]
     },
     "execution_count": 471,
     "metadata": {},
     "output_type": "execute_result"
    }
   ],
   "source": [
    "len(df[TWEET_ID].unique())"
   ]
  }
 ],
 "metadata": {
  "kernelspec": {
   "display_name": "Python 3",
   "language": "python",
   "name": "python3"
  },
  "language_info": {
   "codemirror_mode": {
    "name": "ipython",
    "version": 3
   },
   "file_extension": ".py",
   "mimetype": "text/x-python",
   "name": "python",
   "nbconvert_exporter": "python",
   "pygments_lexer": "ipython3",
   "version": "3.7.6"
  }
 },
 "nbformat": 4,
 "nbformat_minor": 4
}
