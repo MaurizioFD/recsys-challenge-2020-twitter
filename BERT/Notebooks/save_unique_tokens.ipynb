{
 "cells": [
  {
   "cell_type": "code",
   "execution_count": 37,
   "metadata": {},
   "outputs": [],
   "source": [
    "# Set project root\n",
    "import os\n",
    "os.chdir('/home/jovyan/work/github_repo')"
   ]
  },
  {
   "cell_type": "code",
   "execution_count": 38,
   "metadata": {},
   "outputs": [],
   "source": [
    "from Utils.Data.Data import get_dataset\n",
    "import pandas as pd\n",
    "\n",
    "os.chdir('/home/jovyan/work/bert')"
   ]
  },
  {
   "cell_type": "code",
   "execution_count": 39,
   "metadata": {},
   "outputs": [],
   "source": [
    "train_id = \"train\"\n",
    "test_id = \"test\"\n",
    "\n",
    "columns = [\n",
    "    \"raw_feature_tweet_text_token\",\n",
    "    \"mapped_feature_tweet_id\"\n",
    "]"
   ]
  },
  {
   "cell_type": "code",
   "execution_count": 40,
   "metadata": {},
   "outputs": [
    {
     "name": "stderr",
     "output_type": "stream",
     "text": [
      "/opt/conda/lib/python3.7/site-packages/numpy/lib/arraysetops.py:569: FutureWarning: elementwise comparison failed; returning scalar instead, but in the future will perform elementwise comparison\n",
      "  mask |= (ar1 == a)\n"
     ]
    },
    {
     "name": "stdout",
     "output_type": "stream",
     "text": [
      "CPU times: user 2min 32s, sys: 5.58 s, total: 2min 37s\n",
      "Wall time: 2min 37s\n"
     ]
    }
   ],
   "source": [
    "# It takes ~30 minutes (train) and ~3 minutes (test)\n",
    "%time train_df = get_dataset(columns, train_id)\n",
    "%time test_df = get_dataset(columns, test_id)"
   ]
  },
  {
   "cell_type": "code",
   "execution_count": 41,
   "metadata": {},
   "outputs": [
    {
     "name": "stdout",
     "output_type": "stream",
     "text": [
      "CPU times: user 4.23 s, sys: 548 ms, total: 4.78 s\n",
      "Wall time: 4.78 s\n"
     ]
    }
   ],
   "source": [
    "%time train_df.drop_duplicates(\"mapped_feature_tweet_id\", inplace=True)\n",
    "%time test_df.drop_duplicates(\"mapped_feature_tweet_id\", inplace=True)"
   ]
  },
  {
   "cell_type": "code",
   "execution_count": 42,
   "metadata": {},
   "outputs": [
    {
     "name": "stdout",
     "output_type": "stream",
     "text": [
      "CPU times: user 3.76 s, sys: 484 ms, total: 4.24 s\n",
      "Wall time: 4.24 s\n"
     ]
    }
   ],
   "source": [
    "%time df = pd.concat([train_df, test_df])\n",
    "%time df.drop_duplicates(\"mapped_feature_tweet_id\", inplace=True)"
   ]
  },
  {
   "cell_type": "code",
   "execution_count": 43,
   "metadata": {},
   "outputs": [],
   "source": [
    "del train_df\n",
    "del test_df"
   ]
  },
  {
   "cell_type": "code",
   "execution_count": 44,
   "metadata": {},
   "outputs": [
    {
     "data": {
      "text/plain": [
       "52"
      ]
     },
     "execution_count": 44,
     "metadata": {},
     "output_type": "execute_result"
    }
   ],
   "source": [
    "result_file = open(\"evaluation_tweet_tokens_unique.csv\", \"w+\")\n",
    "result_file.write(\"tweet_features_tweet_id,tweet_features_text_tokens \\n\")"
   ]
  },
  {
   "cell_type": "code",
   "execution_count": 45,
   "metadata": {},
   "outputs": [],
   "source": [
    "def save(df_row):\n",
    "    tweet_id = df_row['mapped_feature_tweet_id']\n",
    "    tokens = df_row['raw_feature_tweet_text_token']\n",
    "    # JUST PRINT TO SCREEN\n",
    "    #print(f\"{tweet_id} and {tokens}\")\n",
    "    result_file.write(str(tweet_id) + ',' + tokens + '\\n')"
   ]
  },
  {
   "cell_type": "code",
   "execution_count": 46,
   "metadata": {},
   "outputs": [
    {
     "data": {
      "text/plain": [
       "0           None\n",
       "1           None\n",
       "2           None\n",
       "3           None\n",
       "4           None\n",
       "            ... \n",
       "15127678    None\n",
       "15127680    None\n",
       "15127681    None\n",
       "15127682    None\n",
       "15127683    None\n",
       "Length: 10799267, dtype: object"
      ]
     },
     "execution_count": 46,
     "metadata": {},
     "output_type": "execute_result"
    }
   ],
   "source": [
    "# If you want to test it with a small chunk of data\n",
    "#df[:10].apply(save, axis=1)\n",
    "df.apply(save, axis=1)"
   ]
  },
  {
   "cell_type": "code",
   "execution_count": 47,
   "metadata": {},
   "outputs": [],
   "source": [
    "result_file.close()"
   ]
  }
 ],
 "metadata": {
  "kernelspec": {
   "display_name": "Python 3",
   "language": "python",
   "name": "python3"
  },
  "language_info": {
   "codemirror_mode": {
    "name": "ipython",
    "version": 3
   },
   "file_extension": ".py",
   "mimetype": "text/x-python",
   "name": "python",
   "nbconvert_exporter": "python",
   "pygments_lexer": "ipython3",
   "version": "3.7.6"
  }
 },
 "nbformat": 4,
 "nbformat_minor": 4
}
